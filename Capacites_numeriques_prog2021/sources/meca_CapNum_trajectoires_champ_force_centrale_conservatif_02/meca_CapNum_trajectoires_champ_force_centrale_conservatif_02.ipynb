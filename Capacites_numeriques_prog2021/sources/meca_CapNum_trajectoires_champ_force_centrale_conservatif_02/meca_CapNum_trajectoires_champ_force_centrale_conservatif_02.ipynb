{
 "cells": [
  {
   "cell_type": "markdown",
   "id": "addf524d",
   "metadata": {},
   "source": [
    "# Trajectoire dans un champ de force centrale conservatif, épisode II\n",
    "\n",
    "Maintenant que l'on sait comment cela fonctionne, on peut l'appliquer à une autre force qu'une force képlerienne. Prenons le cas d'un ressort fixé au centre $O$ des coordonnées de sorte que la force s'écrive à présent\n",
    "$$\n",
    "\\vec{F} = - k\\,(r - \\ell_0)\\,\\vec{e}_r\n",
    "$$\n",
    "avec $k$ et $\\ell_0$ deux constantes caractéristiques du ressort fournies dans les données (variables `k` et `ell0`).\n",
    "\n",
    "Le but de ce notebook est de déterminer la période de révolution (le temps pour faire un tour complet autour du point de fixation du ressort) pour un jeu de conditions initiales donné et de la stocker, de même que l'amplitude pic à pic ($r_{max} - r_{min}$) dans la variable `reponse`."
   ]
  },
  {
   "cell_type": "code",
   "execution_count": 1,
   "id": "5fbec76c",
   "metadata": {},
   "outputs": [
    {
     "name": "stdout",
     "output_type": "stream",
     "text": [
      "Votre réponse: ('période de révolution', 'amplitude pic à pic')\n"
     ]
    }
   ],
   "source": [
    "# Import des modules adéquats\n",
    "import numpy as np\n",
    "import scipy as sp\n",
    "import scipy.integrate\n",
    "import matplotlib.pyplot as plt\n",
    "\n",
    "# Import des données, à savoir:\n",
    "# * `m` la masse de la particule considérée\n",
    "# * `k` la constante de raideur du ressort\n",
    "# * `ell0` la longueur à vide du ressort\n",
    "# * `r0` la distance initiale de la particule par rapport au point de fixation du ressort\n",
    "# * `v0` la vitesse orthoradiale initiale\n",
    "# * `theta0` la position angulaire initiale\n",
    "# * `temps` le np.array qui contient tous les temps pour faire l'intégration numérique\n",
    "#   (on suppose que l'on vous a donné un temps d'intégration assez long pour pouvoir\n",
    "#    voir une période complète mais attention, on ne part pas forcément à t=0)\n",
    "# On suppose de plus que l'on parte avec une vitesse radiale nulle\n",
    "from donnees import *\n",
    "\n",
    "\n",
    "# Ne reste plus qu'à faire l'intégration et déterminer à la fois \n",
    "# la période de révolution (temps pour faire un tour complet autour du point de fixation)\n",
    "# et l'amplitude pic à pic (rmax - rmin) \n",
    "\n",
    "\n",
    "\n",
    "# et stocker dans la bonne variable\n",
    "reponse = \"période de révolution\", \"amplitude pic à pic\"\n",
    "\n",
    "print(\"Votre réponse:\", reponse)\n",
    "\n",
    "# Essayez aussi de faire une représentation graphique de la trajectoire, \n",
    "# ça vaut le coup !\n"
   ]
  }
 ],
 "metadata": {
  "kernelspec": {
   "display_name": "Python 3 (ipykernel)",
   "language": "python",
   "name": "python3"
  },
  "language_info": {
   "codemirror_mode": {
    "name": "ipython",
    "version": 3
   },
   "file_extension": ".py",
   "mimetype": "text/x-python",
   "name": "python",
   "nbconvert_exporter": "python",
   "pygments_lexer": "ipython3",
   "version": "3.9.7"
  }
 },
 "nbformat": 4,
 "nbformat_minor": 5
}
