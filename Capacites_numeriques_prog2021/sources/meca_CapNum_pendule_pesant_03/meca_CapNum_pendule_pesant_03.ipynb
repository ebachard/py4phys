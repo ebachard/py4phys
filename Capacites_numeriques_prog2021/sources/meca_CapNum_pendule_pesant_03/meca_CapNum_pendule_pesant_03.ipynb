{
 "cells": [
  {
   "cell_type": "markdown",
   "id": "a50d2761",
   "metadata": {},
   "source": [
    "# Mise en évidence du non-isochronisme des oscillations du pendule pesant, épisode III\n",
    "\n",
    "## Écart à la période propre lors des petites oscillations\n",
    "\n",
    "Maintenant qu'on a bien vu comment intégrer l'équation du mouvement du pendule pesant et le fait que la période grandit petit à petit avec l'amplitude des oscillations, on va essayer de répondre à la question suivante:\n",
    "> Étant donné `x` un réel positif, trouvez l'amplitude $\\theta_x$ des oscillations telle que la période $T(\\theta_x)$  soit la plus proche possible de  $(1 + x)\\,T_0$ avec $T_0$ la période propre correspondant à l'approximation harmonique\n",
    "\n",
    "## Ce qu'on donne\n",
    "\n",
    "Le fichier de données contient les informations suivantes:\n",
    "* la masse $m$ (variable `m`) du pendule ;\n",
    "* son moment d'inertie $I_\\Delta$ par rapport à l'axe $\\Delta$ (variable `I_Delta`) ;\n",
    "* l'écart $OG$ de son centre de gravité par rapport au point de fixation (variable `OG`) ;\n",
    "* une liste de valeurs de $x$ pour lesquelles on cherche  (variable `liste_x`) ;\n",
    "* une valeur $\\theta_{limite}$ (variable `theta_limite`) qui est la valeur maximale à ne pas dépasser: tous les $\\theta_x$ recherchés seront forcément compris entre $0$ et $\\theta_{limite}$ ;\n",
    "* une valeur $T_{limite}$ (variable `T_limite`) qui est la période correspondant à $\\theta_{limite}$\n",
    "\n",
    "## Ce que vous devez trouver\n",
    "\n",
    "Dans la variable `reponse`, vous mettrez la liste des $\\theta_x$ qui correspondent à chaque $x$ trouvé dans `liste_x`. On pourra penser à faire une recherche par dichotomie pour accélérer l'exploration et éviter de faire trop de calculs.\n",
    "\n",
    "\n"
   ]
  },
  {
   "cell_type": "code",
   "execution_count": 1,
   "id": "517d3c82",
   "metadata": {},
   "outputs": [
    {
     "name": "stdout",
     "output_type": "stream",
     "text": [
      "Votre réponse: liste des theta_x demandés\n"
     ]
    }
   ],
   "source": [
    "# Import des modules adéquats\n",
    "import numpy as np\n",
    "import scipy as sp\n",
    "import scipy.integrate\n",
    "import matplotlib.pyplot as plt\n",
    "\n",
    "# Import des données, à savoir:\n",
    "# * `m` la masse du pendule\n",
    "# * `I_Delta` son moment d'inertie par rapport à l'axe \\Delta\n",
    "# * `OG` l'écart de son centre de gravité par rapport au point de fixation O\n",
    "# * `liste_x` la liste des x dont il faut résoudre T(theta_x) = (1 + x)*T0\n",
    "# * `theta_limite` la valeur maximale des theta_x recherchés\n",
    "# * `T_limite` la période correspondant à `theta_limite`\n",
    "from donnees import *\n",
    "\n",
    "# Dans un premier temps, je vous conseille de faire une fonction qui prenne x en argument\n",
    "# et renvoie le theta_x qui correspond. Vous aurez besoin de fonctions auxiliaires comme\n",
    "# * une fonction pour calculer la période\n",
    "# * une pour l'amplitude (bien qu'en choisissant bien vos conditions initiales \n",
    "#   vous aurez automatiquement l'amplitude associée)\n",
    "# * une pour faire une recherche dichotomique qui permette de s'approcher au plus près\n",
    "#   de la période voulue\n",
    "\n",
    "\n",
    "\n",
    "\n",
    "\n",
    "\n",
    "# Dans la variable reponse, on met la liste des theta_x tels que\n",
    "# T(theta_x) = (1 + x) * T0\n",
    "# (pensez bien à calculer T0 à partir de w0)\n",
    "reponse = \"liste des theta_x demandés\"\n",
    "print('Votre réponse:', reponse)"
   ]
  }
 ],
 "metadata": {
  "kernelspec": {
   "display_name": "Python 3 (ipykernel)",
   "language": "python",
   "name": "python3"
  },
  "language_info": {
   "codemirror_mode": {
    "name": "ipython",
    "version": 3
   },
   "file_extension": ".py",
   "mimetype": "text/x-python",
   "name": "python",
   "nbconvert_exporter": "python",
   "pygments_lexer": "ipython3",
   "version": "3.9.7"
  }
 },
 "nbformat": 4,
 "nbformat_minor": 5
}
