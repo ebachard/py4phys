{
 "cells": [
  {
   "cell_type": "markdown",
   "id": "disabled-belief",
   "metadata": {},
   "source": [
    "# Effets non linéaires en mécanique, épisode I\n",
    "\n",
    "On va dans cete série de notebooks observer l'influence des termes non linéaires dans l'intégration des équations différentielles que l'on peut croiser en mécanique et en particulier l'effet sur les périodes d'oscillations. Comme d'habitude, ce premier volet commence par introduire quelques notions utiles pour la résolution numérique dans une première partie, puis vous avez votre travail à faire qui sera décrit dans la seconde partie.\n",
    "\n",
    "## Première partie, outils utiles\n",
    "\n",
    "### Intégration numérique avec odeint\n",
    "\n",
    "On a vu en électricité comment implémenter la méthode d'Euler pour résoudre des équations différentielles. Il est important de comprendre comment celle-ci marche (car c'est la base de quasiment toutes les méthodes d'intégration numérique d'équadiff), mais il est aussi important de savoir que cette méthode est très «crue» et qu'il existe des outils bien plus performants à notre disposition. Un de ces outils est la fonction `odeint` disponible depuis `scipy` (abrégé en `sp`) et plus particulièrement son sous-module `integrate` qu'on appellera donc via `sp.integrate.odeint(f, y0, t)`. Cette fonction prend trois arguments obligatoires:\n",
    "* `f` correspond à une fonction `f(y, t)` qui va définir l'équation différentielle (ou le système d'équations différentielles) de sorte que\n",
    "$$\n",
    "\\frac{\\mathrm{d}y}{\\mathrm{d}t} = f(y, t)\n",
    "$$ où $y$ peut être une fonction inconnue du temps à valeur vectorielle. C'est ce qui va nous sauver puisqu'on voit que `odeint` ne semble pouvoir résoudre *que* des équations du premier ordre alors qu'en mécanique on a généralement des équations du second ordre. Fort heureusement, si on a une équation différentielle du second ordre du type\n",
    "$$\n",
    "\\ddot{x} = g(x, \\dot{x}, t)\n",
    "$$ alors elle peut se réécrire comme un systèmes d'équations du premier ordre\n",
    "$$ \n",
    "\\left\\{\n",
    "\\begin{array}{rcl}\n",
    "    \\dfrac{\\mathrm{d}x}{\\mathrm{d}t} &=& \\dot{x} \\\\\n",
    "    \\dfrac{\\mathrm{d}\\dot{x}}{\\mathrm{d}t} &=& g(x, \\dot{x}, t)\n",
    "\\end{array}\n",
    "\\right.\n",
    "$$\n",
    "En posant $y = \\begin{pmatrix} x \\\\ \\dot{x} \\end{pmatrix}$, on a bien\n",
    "$$\n",
    "\\frac{\\mathrm{d}y}{\\mathrm{d}t}\n",
    "    = \\frac{\\mathrm{d}}{\\mathrm{d}t}\\!\n",
    "                \\begin{pmatrix} x \\\\ \\dot{x} \\end{pmatrix}\n",
    "    = \\begin{pmatrix} \\dot{x} \\\\ g(x, \\dot{x}, t) \\end{pmatrix}\n",
    "    = f(y, t)\n",
    "$$ dans le sens où tous les éléments du second membre peuvent se calculer connaissant les deux composantes du vecteur $y$.\n",
    "* `y0` correspond à la condition initiale. Ici, ce sera le doublet $\\begin{pmatrix} x(0) \\\\ \\dot{x}(0) \\end{pmatrix}$ qui sera donné sous forme d'une liste `[x0, xpoint0]` pour cet exemple d'équadiff du second ordre.\n",
    "* `t` correspond à la liste (ou le `np.array`) des instants pour lesquels on veut obtenir une valeur pour le $y$ choisi. Néanmoins, ce n'est pas parce que vous ne demandez que quelques instants que `odeint` ne va pas passer par des points intermédiaires pour assurer une bonne précision de calcul.\n",
    "\n",
    "À noter que `odeint` renvoie un `np.array` avec autant de lignes que d'instants dans `t`. Pour récupérer le résultat, il va falloir faire une transposition sous la forme:\n",
    "```python\n",
    "solution = sp.integrate.odeint(f, y0, t)\n",
    "x, xpoint = solution.transpose()\n",
    "```\n",
    "\n",
    "### Exemple connu\n",
    "\n",
    "Prenons un oscillateur amorti classique d'équation différentielle\n",
    "$$\n",
    "\\ddot{x} + \\frac{\\omega_0}{Q}\\,\\dot{x} + {\\omega_0}^2\\,x = 0\n",
    "$$\n",
    "On a alors le système différentiel\n",
    "$$ \n",
    "\\left\\{\n",
    "\\begin{array}{rcl}\n",
    "    \\dfrac{\\mathrm{d}x}{\\mathrm{d}t} \n",
    "        &=& \\dot{x} \\\\\n",
    "    \\dfrac{\\mathrm{d}\\dot{x}}{\\mathrm{d}t} \n",
    "        &=& - \\dfrac{\\omega_0}{Q}\\,\\dot{x} - {\\omega_0}^2\\,x\n",
    "\\end{array}\n",
    "\\right.\n",
    "$$\n",
    "En posant $y = \\begin{pmatrix} x \\\\ \\dot{x} \\end{pmatrix}$, le code informatique permettant l'intégration numérique donne"
   ]
  },
  {
   "cell_type": "code",
   "execution_count": 1,
   "id": "banned-designer",
   "metadata": {},
   "outputs": [
    {
     "data": {
      "text/plain": [
       "[<matplotlib.lines.Line2D at 0x10c3e1700>]"
      ]
     },
     "execution_count": 1,
     "metadata": {},
     "output_type": "execute_result"
    },
    {
     "data": {
      "image/png": "[encoded data removed]",
      "text/plain": [
       "<Figure size 432x288 with 1 Axes>"
      ]
     },
     "metadata": {
      "needs_background": "light"
     },
     "output_type": "display_data"
    }
   ],
   "source": [
    "# Import des modules utiles\n",
    "import numpy as np\n",
    "import scipy as sp\n",
    "import scipy.integrate\n",
    "\n",
    "# Définition de l'équation différentielle\n",
    "def f(y, t):\n",
    "    \"\"\"\n",
    "    y est un vecteur à deux composantes: x et xpoint.\n",
    "    On commence donc par récupérer ces deux valeurs et\n",
    "    on les utilise pour calculer les deux dérivées.\n",
    "    On définit aussi les valeurs de w0 et Q.\n",
    "    \"\"\"\n",
    "    x, xpoint = y\n",
    "    w0 = 1\n",
    "    Q = 10\n",
    "    derivee_x = xpoint\n",
    "    derivee_xpoint = -w0 / Q * xpoint - w0**2 * x\n",
    "    return [derivee_x, derivee_xpoint]\n",
    "\n",
    "# Intégration par odeint\n",
    "y0 = [5, 0] # x(0) = 5 et xpoint(0) = 0\n",
    "t = np.linspace(0, 100, 1000)\n",
    "solution = sp.integrate.odeint(f, y0, t)\n",
    "\n",
    "# Récupération de x et xpoint\n",
    "x, xpoint = solution.transpose()\n",
    "\n",
    "# Vérification graphique\n",
    "import matplotlib.pyplot as plt\n",
    "\n",
    "plt.plot(t, x)\n"
   ]
  },
  {
   "cell_type": "markdown",
   "id": "looking-sodium",
   "metadata": {},
   "source": [
    "### Déterminer une période\n",
    "\n",
    "On a déjà une fois déterminé une période en comptant le nombre de passage par 0. Si vous détectez 7 passages par 0, alors vous aurez 6 demi-périodes donc 3 périodes complètes. Néanmoins, on peut aussi ne détecter que les passage par 0 dans le même sens (avec une condition du type `if x[i] <= 0 < x[i+1]`) donc pour 4 passages détecter, le temps écoulé entre le premier et le dernier correspondra à 3 périodes."
   ]
  },
  {
   "cell_type": "markdown",
   "id": "sixth-chrome",
   "metadata": {},
   "source": [
    "## Deuxième partie: ce que vous devez faire.\n",
    "\n",
    "Pour la mise en application de ce notebook, il s'agit de résoudre l'équation du pendule simple\n",
    "$$\n",
    "\\ddot{\\theta} + \\frac{g}{\\ell}\\,\\sin(\\theta) = 0\n",
    "$$\n",
    "lâché sans vitesse initiale pour différentes valeurs initiales $\\theta_0$ de $\\theta$ qui correspondent alors à l'amplitude du mouvement. Il faut alors déterminer la période pour chaque amplitude et représenter graphiquement l'évolution de cette période avec l'amplitude pour voir comment on s'écarte (ou non) de la valeur valable pour les petites oscillations.\n",
    "\n",
    "À la fin, il faut stocker dans la variable `reponse`(SANS ACCENT) la liste des périodes calculées pour chaque amplitude et visualiser l'évolution de cette période en fonction de l'amplitude.\n",
    "\n",
    "ATTENTION: pour que ce soit plus parlant pour vous, les valeurs $\\theta_0$ sont données en degrées, mais pour que l'intégration se fasse correctement, il faut qu'elles soient en radians: à vous de faire la conversion (Hint: il y a la fonction `np.radians` qui permet de ne pas se tromper sur la conversion)\n",
    "\n",
    "ATTENTION Bis: il n'y aura, lors de l'évaluation de votre code, PAS le même nombre de $\\theta_0$. Il faut donc vous assurer que votre code fonctionne même si on enlève ou on rajoute des valeurs à la liste de départ. Je vous conseille de créer une fonction `integre_et_donne_periode(theta0)` qui procède à l'intégration via `odeint` puis détermine la période et la renvoie afin de l'intégrer dans une boucle pour remplir petit à petit la liste des périodes attendues."
   ]
  },
  {
   "cell_type": "code",
   "execution_count": 3,
   "id": "resident-reward",
   "metadata": {},
   "outputs": [
    {
     "data": {
      "text/plain": [
       "[<matplotlib.lines.Line2D at 0x10c56e9d0>]"
      ]
     },
     "execution_count": 3,
     "metadata": {},
     "output_type": "execute_result"
    },
    {
     "data": {
      "image/png": "[encoded data removed]",
      "text/plain": [
       "<Figure size 432x288 with 1 Axes>"
      ]
     },
     "metadata": {
      "needs_background": "light"
     },
     "output_type": "display_data"
    }
   ],
   "source": [
    "# Les importations utiles\n",
    "import numpy as np\n",
    "import scipy as sp\n",
    "import scipy.integrate\n",
    "import matplotlib.pyplot\n",
    "\n",
    "# Les données utiles, à savoir:\n",
    "# * g, l'accélération de la pesanteur choisie (attention, on n'est pas forcément sur Terre)\n",
    "# * ell, la longueur du fil\n",
    "# * liste_theta0, la liste des angles initiaux de lâcher\n",
    "# * t, le np.array des temps à utiliser pour l'intégration numérique\n",
    "from donnees import *\n",
    "\n",
    "# On peut calculer la période pour les petits angles\n",
    "T0 = 2 * np.pi * np.sqrt(ell / g)\n",
    "\n",
    "# À vous de jouer, commencez par définir la fonction à appeler en boucle\n",
    "def integre_et_donne_periode(theta0):\n",
    "    # À vous de remplir les blancs et définir la variable `periode`\n",
    "    \n",
    "    \n",
    "    \n",
    "    \n",
    "    return periode\n",
    "\n",
    "# Initialisation à la mauvaise valeur mais à la bonne taille\n",
    "reponse = [0] * len(liste_theta0) \n",
    "\n",
    "# Puis appelez en boucle la fonction précédente pour remplacer,\n",
    "# dans la variable `reponse`, les différentes périodes\n",
    "\n",
    "\n",
    "\n",
    "\n",
    "# Enfin, regardez l'évolution et comparez à T0\n",
    "\n",
    "plt.plot([min(liste_theta0), max(liste_theta0)], [T0, T0], 'k')\n",
    "plt.plot(liste_theta0, reponse, 'o')\n",
    "\n"
   ]
  }
 ],
 "metadata": {
  "kernelspec": {
   "display_name": "Python 3",
   "language": "python",
   "name": "python3"
  },
  "language_info": {
   "codemirror_mode": {
    "name": "ipython",
    "version": 3
   },
   "file_extension": ".py",
   "mimetype": "text/x-python",
   "name": "python",
   "nbconvert_exporter": "python",
   "pygments_lexer": "ipython3",
   "version": "3.9.6"
  }
 },
 "nbformat": 4,
 "nbformat_minor": 5
}
