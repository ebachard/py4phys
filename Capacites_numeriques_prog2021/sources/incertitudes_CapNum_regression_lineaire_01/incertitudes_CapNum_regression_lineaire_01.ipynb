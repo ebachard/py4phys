{
 "cells": [
  {
   "cell_type": "markdown",
   "id": "advisory-addition",
   "metadata": {},
   "source": [
    "# Régression linéaire, épisode I\n",
    "\n",
    "Ce notebook est constitué de deux parties: \n",
    "* la première donne les bases théoriques et traite un exemple fictif de données avec lequel vous pourrez jouer\n",
    "* la seconde vous demande de mettre le procédé précédent en application sur un exemple tiré de données réelles et pour lequel vous aurez (ou non) les points correspondants.\n",
    "\n",
    "## Première partie: Base théoriques\n",
    "\n",
    "### Le problème\n",
    "\n",
    "Il arrive souvent que l'on doivent essayer d'ajuster un modèle théorique sur des données expérimentales pour en déterminer les paramètres manquant. Ici, on ne s'intéressera qu'aux régressions linéaires mais il est tout à fait possible de généraliser le procédé à des modèles plus compliqués. La grande difficulté néanmoins est d'avoir une idée de l'incertitude sur les paramètres que l'on détermine ainsi puisqu'à chaque point de mesure est associé une incertitude-type et il est normal de ne pas accorder la même confiance à un point dont l'incertitude-type est très petite comparativement à un point pour lequel elle est importante. \n",
    "\n",
    "### Comment faire alors pour s'en tirer ?\n",
    "\n",
    "À la main, vous dessineriez vos points, mettriez les barres d'erreur associées et finalement regarderiez les «modèles extrêmes» qui pourraient tout de même passer par toutes les barres d'erreur. Intuitivement, cela correspond à se dire que les valeurs mesurées pourraient en fait être réparties un peu partout le long des barres d'erreur.\n",
    "\n",
    "Informatiquement, on peut tirer une réalisation des points en rajoutant à la valeur effectivement mesurée une valeur aléatoire dont la distribution a pour écart-type l'incertitude-type associée à la mesure (et déterminée lors de la mesure). Ainsi, on se retrouve avec un *autre* jeu de mesures, similaire à celui que vous avez récolté, mais pour lequel les paramètres du modèle (typiquement le coefficient directeur et l'ordonnée à l'origine pour une régression linéaire) seront légèrement différents que ceux déterminés par l'ajustement sur les données brutes. En stockant l'ensemble des paramètres que vous avez déterminé pour autant de tirages aléatoires sur les données, vous aurez une idée de la variabilité des valeurs de ces paramètres et donc de l'incertitude-type sur la valeur de chacun des paramètres. En outre, vous pourrez vérifier que votre estimation de départ n'est pas trop mauvaise puisque, sauf cas pathologique, la valeur moyenne de la distribution devrait redonner la valeur de votre première détermination.\n",
    "\n",
    "### Illustration sur un exemple\n",
    "\n",
    "#### Étape préliminaire: fabrication des données\n",
    "\n",
    "Commençons par produire des valeurs de $Y$ qui correspondent à des $X$ en suivant la loi $Y = a X + b$ où $a$ et $b$ sont connus, par exemple $a = 3$ et $b = 18$ (on va supposer que tout est sans unité sur cet exemple). Le but de tout cela est de retrouver $a$ et $b$.\n",
    "\n",
    "Les valeurs produites sont pour le moment exactes, mais on va rajouter une petite erreur sur chaque valeur de $X$ (d'incertitude-type $u(X)$) et une petite erreur sur chaque valeur de $Y$ (d'incertitude-type $u(Y)$) en ajoutant à `X` et `Y` un tirage suivant une loi normale d'écart-type l'incertitude-type choisie.\n"
   ]
  },
  {
   "cell_type": "code",
   "execution_count": 1,
   "id": "built-pressure",
   "metadata": {},
   "outputs": [
    {
     "data": {
      "text/plain": [
       "<matplotlib.legend.Legend at 0x11007f820>"
      ]
     },
     "execution_count": 1,
     "metadata": {},
     "output_type": "execute_result"
    },
    {
     "data": {
      "image/png": "[encoded data removed]",
      "text/plain": [
       "<Figure size 432x288 with 1 Axes>"
      ]
     },
     "metadata": {
      "needs_background": "light"
     },
     "output_type": "display_data"
    }
   ],
   "source": [
    "# Import des grandeurs nécessaires\n",
    "import numpy as np\n",
    "import numpy.random as rd\n",
    "\n",
    "# Les valeurs «vraies»\n",
    "a0 = 3\n",
    "b0 = 18  \n",
    "\n",
    "X0 = np.linspace(1,10,20) # On met 20 points de 1 à 10\n",
    "Y0 = a0 * X0 + b0        # Les valeurs de y correspondantes\n",
    "\n",
    "# Les incertitudes-type que l'on veut placer\n",
    "u_x = 0.2\n",
    "u_y = 2\n",
    "\n",
    "# Reste à faire les tirages\n",
    "X = rd.normal(X0, u_x)\n",
    "Y = rd.normal(Y0, u_y)\n",
    "\n",
    "# Un petit dessin pour voir les points originaux (en ronds) et \n",
    "# les points tirés au sort avec leurs barres d'erreur à 2sigma\n",
    "# (donc deux fois l'incertitude-type) pour vérifier que les \n",
    "# points «vrais» sont bien dans les barres d'erreur\n",
    "import matplotlib.pyplot as plt\n",
    "\n",
    "plt.plot(X0, Y0, 'o', label = \"Valeurs «vraies»\")\n",
    "plt.errorbar(X, Y, xerr = 2*u_x, yerr = 2*u_y, \n",
    "             fmt = ' ', label = \"Valeurs avec bruit\")\n",
    "plt.xlabel('Valeurs en $x$')\n",
    "plt.ylabel('Valeurs en $y$')\n",
    "plt.legend()\n"
   ]
  },
  {
   "cell_type": "markdown",
   "id": "precious-cleveland",
   "metadata": {},
   "source": [
    "#### 2e étape: régression linéaire originale\n",
    "\n",
    "Pour faire la régression linéaire, on va faire un ajustement par un polynôme de degré 1 qui donne directement $a$ et $b$ en sortie via la fonction `np.polyfit` qui prend les listes des valeurs de $x$ et de $y$ en entrée, en plus du degré du polynôme que l'on espère lui ajuster (donc ici 1)."
   ]
  },
  {
   "cell_type": "code",
   "execution_count": 2,
   "id": "hourly-hepatitis",
   "metadata": {},
   "outputs": [
    {
     "name": "stdout",
     "output_type": "stream",
     "text": [
      "Valeur de a: 2.7661266103917233 au lieu de 3\n",
      "Valeur de b: 19.864453621757594 au lieu de 18\n"
     ]
    }
   ],
   "source": [
    "a, b = np.polyfit(X, Y, 1)\n",
    "\n",
    "print('Valeur de a:', a, \"au lieu de\", a0)\n",
    "print('Valeur de b:', b, \"au lieu de\", b0)\n"
   ]
  },
  {
   "cell_type": "markdown",
   "id": "mobile-malpractice",
   "metadata": {},
   "source": [
    "On trouve bien des valeurs «proches» de celles attendues, mais est-ce cohérent avec les incertitudes que l'on s'est donné sur les mesures ? En d'autres termes, est-ce que les valeurs visées (par exemple 3 pour a) sont à moins de deux incertitudes-type de la valeur effectivement mesurée ? C'est là qu'intervient le tirage Monte-Carlo qu'on vous demande de savoir faire\n",
    "\n",
    "#### 3e étape: tirage Monte-Carlo et résultats\n",
    "\n",
    "Comme on l'a dit plus haut, on va réaliser un nombre `N` de tirages de nouvelles données *autour* des données effectivement disponibles (ici dans `X` et `Y`) en utilisant exactement le même procédé que l'on a utilisé pour «bruiter» le signal de départ. Cela revient à se dire que si l'on refaisait de nombreuses fois les mesures, on obtiendrait toujours quelque chose d'un peu différent mais toujours aux alentours des points déjà disponibles avec une certaine dispersion autour de ces points caractérisée par l'incertitude-type.\n",
    "\n",
    "On procède donc de la manière suivante:\n",
    "* Une boucle sur `N` tirages\n",
    "* À chaque tour de boucle, on tire de nouvelles valeurs pour les $x$ et les $y$ autour des mesures initiales `X` et `Y`\n",
    "* Pour chacun de ces nouveaux jeux de données, on récolte le $a$ et le $b$ déterminé à l'aide de `np.polyfit` et on le stocke dans une liste de valeurs\n",
    "* et pour ces deux listes, on calcule à la fois la valeur moyenne (pour comparer avec la détermination faite à la deuxième étape) et l'écart-type qui nous donne ainsi l'incertitude-type sur la valeur de $a$ et $b$."
   ]
  },
  {
   "cell_type": "code",
   "execution_count": 3,
   "id": "reliable-warning",
   "metadata": {},
   "outputs": [
    {
     "name": "stdout",
     "output_type": "stream",
     "text": [
      "Valeur moyenne pour a: 2.7536495289988374\n",
      "Valeur de a 2e étape : 2.7661266103917233\n",
      "Incertitude-type sur a 0.16982638511138454\n",
      "--------------------\n",
      "Valeur moyenne pour b: 19.93232185161787\n",
      "Valeur de b 2e étape : 19.864453621757594\n",
      "Incertitude-type sur b 1.0347272268215226\n"
     ]
    },
    {
     "data": {
      "text/plain": [
       "Text(0.5, 1.0, 'Histogramme des valeurs trouvées pour $b$')"
      ]
     },
     "execution_count": 3,
     "metadata": {},
     "output_type": "execute_result"
    },
    {
     "data": {
      "image/png": "[encoded data removed]",
      "text/plain": [
       "<Figure size 432x288 with 1 Axes>"
      ]
     },
     "metadata": {
      "needs_background": "light"
     },
     "output_type": "display_data"
    },
    {
     "data": {
      "image/png": "[encoded data removed]",
      "text/plain": [
       "<Figure size 432x288 with 1 Axes>"
      ]
     },
     "metadata": {
      "needs_background": "light"
     },
     "output_type": "display_data"
    }
   ],
   "source": [
    "# Il ne faut pas être trop gourmand si on ne veut pas que\n",
    "# cela prenne trop de temps\n",
    "N = 10**4\n",
    "\n",
    "# On prépare des np.array de zéros pour contenir les futures valeurs\n",
    "a_MC = np.zeros(N)\n",
    "b_MC = np.zeros(N)\n",
    "\n",
    "for i in range(N):\n",
    "    Xi = rd.normal(X, u_x)\n",
    "    Yi = rd.normal(Y, u_y)\n",
    "    ai, bi = np.polyfit(Xi, Yi, 1)\n",
    "    a_MC[i] = ai\n",
    "    b_MC[i] = bi\n",
    "\n",
    "a_moyen = a_MC.mean()\n",
    "b_moyen = b_MC.mean()\n",
    "u_a = a_MC.std()\n",
    "u_b = b_MC.std()\n",
    "    \n",
    "print(\"Valeur moyenne pour a:\", a_moyen)\n",
    "print(\"Valeur de a 2e étape :\", a)\n",
    "print(\"Incertitude-type sur a\", u_a)\n",
    "print(\"-\"*20)\n",
    "print(\"Valeur moyenne pour b:\", b_moyen)\n",
    "print(\"Valeur de b 2e étape :\", b)\n",
    "print(\"Incertitude-type sur b\", u_b)\n",
    "\n",
    "# On peut aussi regarder les histogrammes en a et en b\n",
    "\n",
    "plt.hist(a_MC, bins = 'rice')\n",
    "plt.title(\"Histogramme des valeurs trouvées pour $a$\")\n",
    "\n",
    "plt.figure() # Pour démarrer une nouvelle figure\n",
    "\n",
    "plt.hist(b_MC, bins = 'rice')\n",
    "plt.title(\"Histogramme des valeurs trouvées pour $b$\")\n"
   ]
  },
  {
   "cell_type": "markdown",
   "id": "qualified-cleaner",
   "metadata": {},
   "source": [
    "#### 4e étape: est-on à moins de 2$\\sigma$ de la valeur attendue ?\n",
    "\n",
    "Il ne reste plus qu'à vérifier que la valeur absolue de l'écart entre la valeur mesurée et la valeur attendue est à moins de deux incertitudes-types de distance pour conclure que les résultats sont cohérents."
   ]
  },
  {
   "cell_type": "code",
   "execution_count": 4,
   "id": "scenic-imaging",
   "metadata": {},
   "outputs": [
    {
     "name": "stdout",
     "output_type": "stream",
     "text": [
      "La valeur de a est à 1.5sigma de celle attendue. VICTOIRE !\n",
      "La valeur de b est à 1.9sigma de celle attendue. VICTOIRE !\n"
     ]
    }
   ],
   "source": [
    "# Calcul du nombre de sigma d'écart\n",
    "ecart_a_par_sigma = abs(a0 - a_moyen) / u_a\n",
    "ecart_b_par_sigma = abs(b0 - b_moyen) / u_b\n",
    "\n",
    "def verif_ecart(parametre, ecart):\n",
    "    ecart = round(ecart, 1)\n",
    "    texte = \"La valeur de {} est à {}sigma de celle attendue.\"\n",
    "    rempli = texte.format(parametre, ecart)\n",
    "    if ecart <= 2:\n",
    "        print(rempli, \"VICTOIRE !\")\n",
    "    else:\n",
    "        print(rempli, \"échec...\")\n",
    "\n",
    "verif_ecart('a', ecart_a_par_sigma)\n",
    "verif_ecart('b', ecart_b_par_sigma)\n",
    "        "
   ]
  },
  {
   "cell_type": "markdown",
   "id": "sustained-notification",
   "metadata": {},
   "source": [
    "## Deuxième partie: mise en pratique\n",
    "\n",
    "Il est à présent temps pour vous de mettre à la pratique.\n",
    "On vous propose par la suite de lire des données pour $x$ et $y$ que l'on stocke dans des `np.array` appelés `X` et `Y` et qui sont chacun associés à une incertitude-type `u_x` et `u_y`.\n",
    "\n",
    "Votre travail est de stocker 4 valeurs dans une variable `reponse` (SANS ACCENT) en utilisant la syntaxe\n",
    "```Python\n",
    "reponse = val1, val2, val3, val4\n",
    "```\n",
    "où \n",
    "* `val1` correspond à la valeur trouvée pour le coefficient directeur $a$ (obtenue via tirage Monte-Carlo)\n",
    "* `val2` à son incertitude-type $u(a)$ (obtenue via tirage Monte-Carlo)\n",
    "* `val3` correspond à la valeur de l'ordonnée à l'origine $b$ (obtenue via tirage Monte-Carlo)\n",
    "* et `val4` à son incertitude-type $u(b)$ (toujours tirée du même tirage Monte-Carlo)."
   ]
  },
  {
   "cell_type": "code",
   "execution_count": 5,
   "id": "suitable-house",
   "metadata": {},
   "outputs": [],
   "source": [
    "# import de la valeur de N (ne la changez pas...)\n",
    "from donnees import *\n",
    "\n",
    "# Lecture des données autres\n",
    "X, u_x, Y, u_y = np.loadtxt('donnees.txt', unpack=True)\n",
    "\n",
    "# à vous de jouer !\n",
    "\n",
    "\n",
    "\n",
    "\n",
    "# À vous de changer ces assignations \n",
    "# une fois que vous aurez fait votre tirage\n",
    "val1 = 'Coefficient directeur a'\n",
    "val2 = 'Incertitude-type sur a'\n",
    "val3 = \"Ordonnée à l'origine b\"\n",
    "val4 = 'Incertitude-type sur b'\n",
    "\n",
    "# Ce qu'il faut mettre dans la variable reponse (ne changez pas...):\n",
    "\n",
    "reponse = val1, val2, val3, val4"
   ]
  }
 ],
 "metadata": {
  "kernelspec": {
   "display_name": "Python 3 (ipykernel)",
   "language": "python",
   "name": "python3"
  },
  "language_info": {
   "codemirror_mode": {
    "name": "ipython",
    "version": 3
   },
   "file_extension": ".py",
   "mimetype": "text/x-python",
   "name": "python",
   "nbconvert_exporter": "python",
   "pygments_lexer": "ipython3",
   "version": "3.9.7"
  }
 },
 "nbformat": 4,
 "nbformat_minor": 5
}
