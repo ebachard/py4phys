{
 "cells": [
  {
   "cell_type": "markdown",
   "id": "62e392a9",
   "metadata": {},
   "source": [
    "# Trajectoire dans un champ de force centrale conservatif, épisode I\n",
    "\n",
    "## Présentation du problème, prérequis physiques\n",
    "\n",
    "Pour une particule de masse $m$ soumise uniquement à un champ de force centrale conservatif, la force s'écrit $F(r)\\,\\vec{e}_r$, c'est-à-dire qu'elle est radiale (la force est «centrale») et que la projection selon $\\vec{e}_r$ ne dépend que de $r$ (le champ est «conservatif» dans le cas radial). Ainsi la relation fondamentale de la dynamique s'écrit\n",
    "$$\n",
    "m\\,\\vec{a} = F(r)\\,\\vec{e}_r\n",
    "$$\n",
    "ce qui donne en coordonnées polaires\n",
    "$$\n",
    "m\\,\\left((\\ddot{r} - r\\,\\dot\\theta^2)\\,\\vec{e}_r + (2\\dot{r}\\dot\\theta + r\\ddot\\theta)\\,\\vec{e}_\\theta\\right) = F(r)\\,\\vec{e}_r\n",
    "$$\n",
    "La projection suivant $\\vec{e}_r$ donne\n",
    "$$\n",
    "m(\\ddot{r} - r\\,\\dot\\theta^2) = F(r)\n",
    "$$\n",
    "alors que celle sur $\\vec{e}_\\theta$ donne\n",
    "$$\n",
    "2\\dot{r}\\dot\\theta + r\\ddot\\theta = 0\n",
    "\\quad\\Longleftrightarrow\\quad\n",
    "2r\\dot{r}\\dot\\theta + r^2\\ddot\\theta=0\n",
    "\\quad\\Longleftrightarrow\\quad\n",
    "\\frac{\\mathrm{d}}{\\mathrm{d}t}\\left(r^2\\dot\\theta\\right) = 0\n",
    "\\quad\\Longleftrightarrow\\quad\n",
    "r^2\\dot\\theta = C = \\mathrm{C}^{\\mathrm{te}}\n",
    "= {r_0}^2{\\dot\\theta_0}\n",
    "$$\n",
    "On peut donc remplacer $\\dot\\theta = C / r^2$ dans la projection radiale pour obtenir une unique équation différentielle sur $r$ et un moyen de calculer $\\dot\\theta$ en tout point connaissant $r$ et donc de l'intégrer pour obtenir $\\theta$. On a donc le système différentiel à trois équations différentielles d'ordre 1:\n",
    "$$\n",
    "\\left\\{\n",
    "    \\begin{array}{rcl}\n",
    "        \\dfrac{\\mathrm{d}r}{\\mathrm{d}t}   &=& \\dot r \\\\\n",
    "         \\dfrac{\\mathrm{d}\\dot{r}}{\\mathrm{d}t} &=&  \\dfrac{F(r)}{m} + \\dfrac{C^2}{r^3}  \\\\\n",
    "        \\dfrac{\\mathrm{d}\\theta}{\\mathrm{d}t}&=&  \\dfrac{C}{r^2}\n",
    "    \\end{array}\n",
    "\\right.\n",
    "$$\n",
    "\n",
    "## Application au cas képlerien\n",
    "\n",
    "Dans le cas d'une masse $m$ en orbite autour d'une étoile de masse $M$, les équations précédentes s'écrivent\n",
    "$$\n",
    "\\left\\{\n",
    "    \\begin{array}{rcl}\n",
    "        \\dfrac{\\mathrm{d}r}{\\mathrm{d}t}   &=& \\dot r \\\\\n",
    "         \\dfrac{\\mathrm{d}\\dot{r}}{\\mathrm{d}t} &=&  -\\dfrac{GM}{r^2} + \\dfrac{C^2}{r^3}  \\\\\n",
    "        \\dfrac{\\mathrm{d}\\theta}{\\mathrm{d}t}&=&  \\dfrac{C}{r^2}\n",
    "    \\end{array}\n",
    "\\right.\n",
    "$$\n",
    "Cela ne dépend plus de la masse $m$ de la particule considérée. Si on se place dans le cadre d'une masse $M$ prise comme unité de masse (donc $M=1$ pour ce système), en imposant un système où $G=1$ et $r_0=1$, alors il est facile de connaître la vitesse de circularisation $v_{\\text{circ}} = \\sqrt{GM/r} = 1$ aussi. On peut donc facilement simuler trois orbites: l'une avec $v < v_{\\text{circ}}$, la seconde avec $v = v_{\\text{circ}}$ et la troisième avec $v > v_{\\text{circ}}$. Dans les trois cas, on va partir de $\\theta_0=0$ avec $r_0=1$ et $\\dot{r}_0=0$, soit au périhélie ou à l'aphélie de la trajectoire (en imaginant que le point central est le Soleil)."
   ]
  },
  {
   "cell_type": "code",
   "execution_count": 3,
   "id": "02ad15d6",
   "metadata": {},
   "outputs": [
    {
     "data": {
      "text/plain": [
       "Text(0.5, 1.0, 'Trajectoires pour différentes vitesses initiales')"
      ]
     },
     "execution_count": 3,
     "metadata": {},
     "output_type": "execute_result"
    },
    {
     "data": {
      "image/png": "[encoded data removed]",
      "text/plain": [
       "<Figure size 432x288 with 1 Axes>"
      ]
     },
     "metadata": {
      "needs_background": "light"
     },
     "output_type": "display_data"
    }
   ],
   "source": [
    "# Importation des bons modules\n",
    "import numpy as np\n",
    "import scipy as sp\n",
    "import scipy.integrate \n",
    "import matplotlib.pyplot as plt\n",
    "\n",
    "# Préparation du système d'équations différentielles\n",
    "# On a besoin des valeurs globales\n",
    "G = 1\n",
    "M = 1\n",
    "# Puis les équations différentielles\n",
    "def kepler(y, t):\n",
    "    r, rpoint, theta = y # Les trois variables, dans l'ordre voulu\n",
    "    drdt = rpoint\n",
    "    drpointdt = - G * M / r**2 + C**2 / r**3\n",
    "    dthetadt = C / r**2\n",
    "    return [drdt, drpointdt, dthetadt]\n",
    "\n",
    "# Notez qu'à ce stade, C n'a pas encore été défini, mais ce n'est pas grave, \n",
    "# il ne faut juste pas oublier de le faire avant d'utiliser la fonction précédente\n",
    "# NB: on ne peut le faire qu'une fois que l'on a choisi les conditions initiales\n",
    "\n",
    "# Définition des vitesses initiales\n",
    "V0 = [0.5, 1, 1.3] # Rappel, vcirc = 1 si r0=1\n",
    "r0 = 1\n",
    "theta0 = 0\n",
    "# Les temps d'intégration: avec v0=1, Képler nous dit qu'on devrait avoir T = 2pi\n",
    "# on va donc prendre 3 tours pour 1000 points d'intégration\n",
    "temps = np.linspace(0, 6 * np.pi, 1000)\n",
    "\n",
    "# On boucle sur les trois vitesses pour faire trois intégrations \n",
    "# et trois représentations graphiques\n",
    "for v0 in V0:\n",
    "    thetapoint0 = v0 / r0  # Cas où rpoint = 0\n",
    "    C = r0**2 * thetapoint0\n",
    "    y0 = [r0, 0, theta0]\n",
    "    sol = sp.integrate.odeint(kepler, y0, temps)\n",
    "    # on récupère les distances radiales et les angles\n",
    "    r = sol[:, 0] # la distance radiale est le premier élément de chaque y\n",
    "    theta = sol[:, 2] # L'angle theta est le 3e élément (donc en position 2)\n",
    "    X = r * np.cos(theta) # Conversion en coordonnées cartésiennes\n",
    "    Y = r * np.sin(theta)\n",
    "    plt.plot(X, Y, label='$v_0={}$'.format(v0))\n",
    "plt.legend()\n",
    "plt.axis('equal')\n",
    "plt.title('Trajectoires pour différentes vitesses initiales')\n",
    "    "
   ]
  },
  {
   "cell_type": "markdown",
   "id": "fda14fc0",
   "metadata": {},
   "source": [
    "On voit que la trajectoire avec $v_0=1$ est bien circulaire quand on impose la même échelle horizontale et verticale (via `plt.axis('equal')`). On voit aussi qu'avec une faible vitesse initiale, on s'approche bien du point central alors que pour une vitesse proche de la vitesse de libération ($\\sqrt2\\approx1.4142$ dans ces unités), alors on ne fait même pas une période sur l'intervalle de temps regardé. \n",
    "\n",
    "## Ce qu'on vous demande de faire\n",
    "\n",
    "On vous donne une série de vitesses initiales (dans la variable `V0`) ainsi qu'une série de positions initiales (variable `R0`). On supposera à chaque fois $\\dot{r}_0=0$ et $\\theta_0=0$.  Après intégration, il faut déterminer à la fois le demi grand axe $a$ (donné par $\\frac{r_{max} + r_{min}}{2}$) et la période $T$ (temps pour que $\\theta$ arrive une première fois à $2\\pi$ puisqu'on commence à $\\theta=0$). Pour toutes les conditions initiales où l'on peut effectivement déterminer une période, il s'agit de calculer la valeur moyenne de $T^2/a^3$ et stocker le résultat dans la variable `reponse`."
   ]
  },
  {
   "cell_type": "code",
   "execution_count": 2,
   "id": "f72b66cd",
   "metadata": {},
   "outputs": [
    {
     "name": "stdout",
     "output_type": "stream",
     "text": [
      "Votre réponse: valeur moyenne de T**2 / a**3\n",
      "À comparer à  39.47841760435743\n"
     ]
    }
   ],
   "source": [
    "# Import des nouvelles données:\n",
    "# * `G` pour la nouvelle valeur choisie pour G\n",
    "# * `M` pour la nouvelle valeur choisie pour la masse centrale\n",
    "# * `R0` pour une liste de positions initiales en r\n",
    "# * `V0` pour une liste de vitesses initiales (orthoradiales) (de même taille que `R0`)\n",
    "# * `temps` pour la liste des temps\n",
    "from donnees import *\n",
    "\n",
    "\n",
    "# À vous d'intégrer les équations du mouvement\n",
    "\n",
    "\n",
    "\n",
    "# On stocke la valeur moyenne dans la variable `reponse`\n",
    "\n",
    "reponse = 'valeur moyenne de T**2 / a**3'\n",
    "\n",
    "print('Votre réponse:', reponse)\n",
    "print('À comparer à :', 4 * np.pi**2 / (G * M))\n"
   ]
  }
 ],
 "metadata": {
  "kernelspec": {
   "display_name": "Python 3 (ipykernel)",
   "language": "python",
   "name": "python3"
  },
  "language_info": {
   "codemirror_mode": {
    "name": "ipython",
    "version": 3
   },
   "file_extension": ".py",
   "mimetype": "text/x-python",
   "name": "python",
   "nbconvert_exporter": "python",
   "pygments_lexer": "ipython3",
   "version": "3.9.9"
  }
 },
 "nbformat": 4,
 "nbformat_minor": 5
}
