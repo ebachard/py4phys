{
 "cells": [
  {
   "cell_type": "markdown",
   "id": "comic-platinum",
   "metadata": {},
   "source": [
    "# Variabilité d'une grandeur pour estimer son incertitude type\n",
    "\n",
    "Ce notebook vise à illustrer des calculs que vous ferez très fréquemment en TP de physique, gardez-le donc sous le coude pour vous en inspirer au besoin: on ne vous demande pas de retenir par cœur la syntaxe, en revanche, on vous demande d'être capable de l'adapter au cas que vous allez traiter en TP.\n",
    "\n",
    "La première section explique les notions, la seconde est l'énoncé proprement dit de ce que vous devez faire. La réponse à la question posée doit être stockée dans la variable `reponse` (ATTENTION: pas d'accent ! Voyez dans la dernière case de ce notebook).\n",
    "\n",
    "ATTENTION (bis), au moment de rendre ce travail, assurez-vous bien qu'une exécution via \"Noyau -> Redémarrer & tout exécuter\" vous donne bien le résultat attendu. Cf la vidéo qui explique comment prendre en main un notebook.\n"
   ]
  },
  {
   "cell_type": "markdown",
   "id": "broad-gazette",
   "metadata": {},
   "source": [
    "## Première partie: exemple de syntaxe\n",
    "\n",
    "Vous avez vu en cours de physique qu'à toute grandeur $x$ mesurée peut être associée une valeur $u(x)$ appelée «incertitude-type» qui traduit le fait que lors d'une série de mesure on aura une certaine variabilité des résultats mesurées: $u(x)$ correspond à l'écart-type de la distribution des valeurs de $x$.\n",
    "\n",
    "Supposons que l'on se donne une longueur $x = 1{,}234~$m dont les mesures répétées donnent un écart-type $u(x) = 0{,}2~$m. Le bloc suivant permet de simuler un million de mesures (`N = 10**6`) prises aléatoirement en suivant une distribution gaussienne, dite distribution normale (`rd.normal`) de valeur moyenne $x = 1{,}234~$m (premier argument de `rd.normal`) et d'écart-type $u(x) = 0{,}2~$m (deuxième argument de `rd.normal`), le tout stocké dans le `np.array` appelé `X`.\n",
    "\n",
    "Pour la forme, on vérifie que l'application de la moyenne (par la méthode `mean`) et de l'écart-type (par la méthode `std` pour «standard déviation»), ce qui redonne effectivement (à quelques pouillièmes près) les deux valeurs que l'on a rentré au départ (ouf!)\n"
   ]
  },
  {
   "cell_type": "code",
   "execution_count": 1,
   "id": "detailed-consent",
   "metadata": {},
   "outputs": [
    {
     "name": "stdout",
     "output_type": "stream",
     "text": [
      "Vérifications...\n",
      "Moyenne de X:    1.2343613986230246\n",
      "Écart-type de X: 0.200049149869844\n"
     ]
    }
   ],
   "source": [
    "import numpy as np        # Importation de numpy\n",
    "import numpy.random as rd # Le sous-module pour les tirages aléatoires\n",
    "\n",
    "N = 10**6 # Nombre de valeurs tirées\n",
    "\n",
    "x = 1.234\n",
    "ux= 0.2\n",
    "X = rd.normal(x, ux, N)\n",
    "\n",
    "print(\"Vérifications...\")\n",
    "print(\"Moyenne de X:   \", X.mean())\n",
    "print(\"Écart-type de X:\", X.std())\n"
   ]
  },
  {
   "cell_type": "markdown",
   "id": "common-compression",
   "metadata": {},
   "source": [
    "Procédons aussi à une analyse graphique pour voir la distribution sous forme d'un histogramme des valeurs, c'est-à-dire pour un certain nombre d'intervalle de valeurs de $x$, le nombre de mesures qui se sont justement retrouvées dans cet intervalle. On retrouve la forme en cloche caractéristique d'une gaussienne, avec une largeur à mi-hauteur qui correspond au fameux écart-type."
   ]
  },
  {
   "cell_type": "code",
   "execution_count": 2,
   "id": "successful-protection",
   "metadata": {},
   "outputs": [
    {
     "data": {
      "text/plain": [
       "Text(0.5, 1.0, 'Histogramme des valeurs simulées pour $x$')"
      ]
     },
     "execution_count": 2,
     "metadata": {},
     "output_type": "execute_result"
    },
    {
     "data": {
      "image/png": "[encoded data removed]",
      "text/plain": [
       "<Figure size 432x288 with 1 Axes>"
      ]
     },
     "metadata": {
      "needs_background": "light"
     },
     "output_type": "display_data"
    }
   ],
   "source": [
    "import matplotlib.pyplot as plt # pour les représentation graphiques\n",
    "\n",
    "# bins = 'rice' permet de donner une bonne tête à l'histogramme\n",
    "# L'histogramme en lui-même est calculé automatiquement par plt.hist\n",
    "# On récupère les valeurs additionnées dans n, \n",
    "# l'histogramme étant une représentation de n en fonction de bins\n",
    "n, bins, patches  = plt.hist(X, bins = 'rice') \n",
    "\n",
    "Xm = X.mean()\n",
    "uX = X.std()\n",
    "nMax = max(n)\n",
    "# Position de la moyenne en noir ('k')\n",
    "plt.plot([Xm, Xm], [0, nMax], 'k')\n",
    "# Vérification de largeur à mi-hauteur en rouge ('r')\n",
    "plt.plot([Xm - uX, Xm + uX], [nMax / 2, nMax / 2], 'r')\n",
    "\n",
    "plt.xlabel('Valeurs de $x$')\n",
    "plt.ylabel(\"Nombre de mesures dans l'intervalle considéré\")\n",
    "plt.title(\"Histogramme des valeurs simulées pour $x$\")"
   ]
  },
  {
   "cell_type": "markdown",
   "id": "another-guarantee",
   "metadata": {},
   "source": [
    "Supposons à présent que l'on ait une autre longueur $y = 2{,}45~$m avec une incertitude-type de $u(y)=0{,}53~$m. On veut déterminer l'aire du rectangle dont les côtés valent respectivement $x$ et $y$ et surtout l'incertitude-type sur l'aire correspondante. On fait donc un tirage de valeurs de $y$ en plus du tirage des valeurs de $x$ dont on dispose déjà et on crée une nouvelle variable qui va contenir tous les calculs d'aire pour toutes les valeurs tirées aléatoirement dans cette simulation. On peut alors regarder la tête de la distribution des aires et calculer la moyenne et l'écart-type correspondant."
   ]
  },
  {
   "cell_type": "code",
   "execution_count": 3,
   "id": "royal-singing",
   "metadata": {},
   "outputs": [
    {
     "name": "stdout",
     "output_type": "stream",
     "text": [
      "Résultats...\n",
      "Aire moyenne:\t\t\t 3.02529409808973 m^2\n",
      "Incertitude-type:\t\t 0.8239671893406112 m^2\n",
      "Aire attendue:\t\t\t 3.0233000000000003 m^2\n",
      "Propagation d'incertitude:\t 0.817216103855033 m^2\n"
     ]
    },
    {
     "data": {
      "image/png": "[encoded data removed]",
      "text/plain": [
       "<Figure size 432x288 with 1 Axes>"
      ]
     },
     "metadata": {
      "needs_background": "light"
     },
     "output_type": "display_data"
    }
   ],
   "source": [
    "y = 2.45\n",
    "uy= 0.53\n",
    "Y = rd.normal(y, uy, N)  # Tirage des N valeurs de y\n",
    "\n",
    "aire = X * Y\n",
    "\n",
    "plt.hist(aire, bins = 'rice')\n",
    "plt.title('Distribution des aires $x\\\\times y$')\n",
    "\n",
    "aire_moyenne = aire.mean()\n",
    "u_aire = aire.std()\n",
    "\n",
    "print('Résultats...')\n",
    "print('Aire moyenne:\\t\\t\\t', aire_moyenne, 'm^2')\n",
    "print('Incertitude-type:\\t\\t', u_aire, 'm^2')\n",
    "\n",
    "# Comparaison avec la formule de propagation des incertitudes:\n",
    "\n",
    "u_propagation = x * y * np.sqrt( (ux / x)**2 + (uy / y)**2 )\n",
    "\n",
    "print('Aire attendue:\\t\\t\\t', x * y, 'm^2')\n",
    "print(\"Propagation d'incertitude:\\t\", u_propagation, 'm^2')\n"
   ]
  },
  {
   "cell_type": "markdown",
   "id": "confidential-clinic",
   "metadata": {},
   "source": [
    "Comme on le voit avec les calculs précédents, on retrouve bien l'ordre de grandeur de la valeur prédite par la formule de propagation d'incertitude qui dit que, pour $A = xy$, \n",
    "$$\\frac{u(A)}{A} = \\sqrt{\n",
    "        \\left(\\frac{u(x)}{x}\\right)^{\\!\\!2} +\n",
    "        \\left(\\frac{u(y)}{y}\\right)^{\\!\\!2}\n",
    "        }$$"
   ]
  },
  {
   "cell_type": "markdown",
   "id": "loving-suggestion",
   "metadata": {},
   "source": [
    "## Deuxième partie: à vous de jouer !\n",
    "\n",
    "À présent que les grandes lignes sont tracées, on va vous demander de faire le travail par vous-même. Dans le répertoire de ce notebook, il y a un fichier `donnees.py` qui définit les valeurs de `x`, `y`, `ux` et `uy` ainsi que la fonction `grandeur(x, y)` qui est la grandeur calculée à partir des valeurs mesurées $x$ et $y$. On impose aussi la valeur `N` du nombre de tirages à effectuer.\n",
    "Vous pouvez donc utiliser ces valeurs comme si vous les aviez définies vous-même dans la suite de cette cellule Python. Attention néanmoins, ne vous amusez pas à modifier le fichier `donnees.py` car il sera écrasé par un fichier contenant des valeurs (et définition) différentes lors de l'évaluation de votre notebook.\n",
    "\n",
    "En utilisant les notions expliquées dans la section précédente, stockez dans la variable `reponse` (SANS ACCENT) la valeur de l'incertitude-type pour la grandeur calculée à partir de $x$ et $y$."
   ]
  },
  {
   "cell_type": "code",
   "execution_count": 4,
   "id": "intermediate-cooking",
   "metadata": {},
   "outputs": [
    {
     "name": "stdout",
     "output_type": "stream",
     "text": [
      "Valeurs de x et y: 34.56 et 0.765\n",
      "Votre réponse pour le moment: À changer...\n"
     ]
    }
   ],
   "source": [
    "# Import des variables `x`, `ux`, `y` et `uy` \n",
    "# ainsi que de la fonction `grandeur` qui attend deux arguments \n",
    "# (`x` et `y`).\n",
    "# La valeur du nombre `N` de simulation est aussi imposée et doit être\n",
    "# utilisée comme dans l'exemple plus haut.\n",
    "from donnees import *\n",
    "\n",
    "# À vous de jouer ! \n",
    "\n",
    "print(\"Valeurs de x et y:\", x, \"et\", y)\n",
    "\n",
    "# Changez ce qu'il y a du côté droit de l'égalité suivante\n",
    "# en y mettant l'incertitude-type pour `grandeur(x, y)`\n",
    "\n",
    "reponse = \"À changer...\"\n",
    "\n",
    "print(\"Votre réponse pour le moment:\", reponse)\n"
   ]
  }
 ],
 "metadata": {
  "kernelspec": {
   "display_name": "Python 3",
   "language": "python",
   "name": "python3"
  },
  "language_info": {
   "codemirror_mode": {
    "name": "ipython",
    "version": 3
   },
   "file_extension": ".py",
   "mimetype": "text/x-python",
   "name": "python",
   "nbconvert_exporter": "python",
   "pygments_lexer": "ipython3",
   "version": "3.9.6"
  }
 },
 "nbformat": 4,
 "nbformat_minor": 5
}
