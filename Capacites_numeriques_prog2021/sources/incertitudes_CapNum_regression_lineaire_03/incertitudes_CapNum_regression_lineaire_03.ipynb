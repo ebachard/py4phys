{
 "cells": [
  {
   "cell_type": "markdown",
   "id": "bulgarian-round",
   "metadata": {},
   "source": [
    "# Régression linéaire, épisode III\n",
    "\n",
    "Vous savez à présent comment vous y prendre pour estimer l'incertitude sur une régression linéaire. Aujourd'hui, on va l'utiliser pour vérifier si les mesures effectuées lors d'une expérience de mécanique sur un pendule de torsion sont cohérentes avec la valeur usuelle de l'accélération de la pesanteur: $g = 9{,}81~\\mathrm{m.s^{-2}}$.\n",
    "\n",
    "Les données récupérées dans les `np.array` `X` et `Y` vérifient normalement une équation de droite telle que $Y = aX + b$ où le coefficient directeur $a$ est relié à l'accélération de la pesanteur via\n",
    "$$\n",
    "a = \\frac{4\\pi^2}{g}\n",
    "$$\n",
    "Votre but est de stocker dans la variable `reponse` (SANS ACCENT) la valeur déduite des données pour $g$, son incertitude-type $u(g)$ et un booléen qui est à `True` si la valeur mesurée de $g$ est en accord avec l'habituel `9.81` ou `False` sinon (NB: être en accord signifie être à moins de deux $\\sigma$, soit $2u(g)$ de la valeur tabulée). \n",
    "\n",
    "On rappelle que si $$\n",
    "y = \\frac{\\alpha}{x}\n",
    "$$ avec $\\alpha$ une constante alors $$\n",
    "\\frac{u(y)}{y} = \\frac{u(x)}{x}\n",
    "$$\n"
   ]
  },
  {
   "cell_type": "code",
   "execution_count": null,
   "id": "steady-potato",
   "metadata": {},
   "outputs": [],
   "source": [
    "# Import des données: on y définit notamment\n",
    "# * `X`, le np.array des valeurs en abscisses\n",
    "# * `u_X`, le np.array des incertitudes-type associées (pas toutes identiques)\n",
    "# * `Y`, le np.array des valeurs en ordonnées\n",
    "# * `u_Y`, le np.array des incertitudes-type associées (pas toutes identiques)\n",
    "# * `N`, le nombre de tirages Monte-Carlo à faire\n",
    "from donnees import *\n",
    "\n",
    "# À vous de travailler\n",
    "\n",
    "\n",
    "\n",
    "\n",
    "# Les valeurs à remplir à partir de vos tirages\n",
    "g = 'Valeur obtenue pour g après tirage MC'\n",
    "u_g = 'Incertitude-type sur la valeur précédente, à partir de celle sur a'\n",
    "\n",
    "# La variable qui suit doit être *calculée* à partir des deux valeurs\n",
    "# précédentes car les données que votre programme obtiendra lors\n",
    "# de la notation ne seront pas les mêmes que celles lors de l'entraînement\n",
    "est_ce_compatible = 'Devrait contenir un booléen'\n",
    "\n",
    "# Ne pas changer cette ligne mais remplir les précédentes\n",
    "reponse = g, u_g, est_ce_compatible\n",
    "\n",
    "print('Votre réponse:', reponse)\n"
   ]
  }
 ],
 "metadata": {
  "kernelspec": {
   "display_name": "Python 3 (ipykernel)",
   "language": "python",
   "name": "python3"
  },
  "language_info": {
   "codemirror_mode": {
    "name": "ipython",
    "version": 3
   },
   "file_extension": ".py",
   "mimetype": "text/x-python",
   "name": "python",
   "nbconvert_exporter": "python",
   "pygments_lexer": "ipython3",
   "version": "3.9.7"
  }
 },
 "nbformat": 4,
 "nbformat_minor": 5
}
