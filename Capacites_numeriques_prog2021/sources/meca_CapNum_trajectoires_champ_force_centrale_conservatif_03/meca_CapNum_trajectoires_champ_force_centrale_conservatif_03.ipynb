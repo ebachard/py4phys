{
 "cells": [
  {
   "cell_type": "markdown",
   "id": "b13da4cd",
   "metadata": {},
   "source": [
    "# Trajectoire dans un champ de force centrale conservatif, épisode III\n",
    "\n",
    "## Déflexion d'une étoile au passage d'un amas stellaire\n",
    "\n",
    "### Présentation\n",
    "\n",
    "Les amas stellaire sont des assemblées de parfois plusieurs millions d'étoiles empaquetées dans un rayon de l'ordre de quelques années-lumières (soit la distance du Soleil à sa plus proche voisine !). Ce sont de véritables HLM stellaires où la surpopulation fait que le potentiel gravitationnel est très lisses et peu affecté par la présence d'une étoile donnée (car il y en a beaucoup beaucoup). Un modèle sympathique (car facile à traiter analytiquement) est celui de Plummer (1911) dont le potentiel gravitationnel s'écrit\n",
    "$$\n",
    "\\Phi(r) = - \\frac{GM_0}{\\sqrt{r^2 + a^2}}\n",
    "$$\n",
    "où $M_0$ est la masse de l'amas et $a$ est le «rayon de Plummer» qui caractérise la taille de l'amas.\n",
    "\n",
    "NB: le potentiel gravitationnel (notion à rapprocher du potentiel électrique) est reliée à l'énergie potentielle d'une masse $m$ plongée dans ce potentiel par\n",
    "$$\n",
    "E_p = m\\,\\Phi(r)\n",
    "$$\n",
    "\n",
    "La force gravitationnelle correspondante s'écrit alors\n",
    "$$\n",
    "\\vec{F} = F(r)\\,\\vec{e}_r = - m \\frac{\\mathrm{d}\\Phi}{\\mathrm{d}r}\\,\\vec{e}_r\n",
    "$$\n",
    "\n",
    "On pourrait à nouveau étudier un état lié comme dans l'épisode précédent, mais on va plutôt supposer qu'une étoile hors de l'amas plonge avec une certaine vitesse vers l'amas et se fait dévier (comme pour la déviation dans l'expérience de Rutherford) d'un certain angle en fonction du paramètre d'impact $b$.\n",
    "\n",
    "### Conditions de l'expérience\n",
    "\n",
    "On va prendre une particule de masse $m$ à l'infini (enfin disons à $100a$) sur la gauche et légèrement décalée verticalement de $-b$. En d'autres termes, la position de départ vaut\n",
    "$$\n",
    "\\vec{OM}_0 = -100a\\,\\vec{e}_x - b\\,\\vec{e}_y\n",
    "$$\n",
    "Cette particule est lancée avec une vitesse $\\vec{v}_0 = v_0\\,\\vec{e}_x$ et le but est de déterminer l'angle de déflection pour une liste de $b$ donnés.\n",
    " \n",
    "Il faut alors résoudre les équations du mouvement et récupérer la valeur de fin d'intégration pour $\\theta$.\n",
    "\n",
    "Réfléchissez bien aux conditions initiales en terme d'angle et de distance au centre (faites vous un dessin !)"
   ]
  },
  {
   "cell_type": "code",
   "execution_count": 2,
   "id": "741631bd",
   "metadata": {},
   "outputs": [
    {
     "name": "stdout",
     "output_type": "stream",
     "text": [
      "Votre réponse: Liste des angles de déflection pour chaque valeur de b explorée\n"
     ]
    }
   ],
   "source": [
    "# Import des données:\n",
    "# * `G` contient la valeur choisie pour la constante de gravitation universelle\n",
    "# * `M0` la masse de l'amas\n",
    "# * `a` le rayon de Plummer de l'amas\n",
    "# * `v0` vitesse initiale à «l'infini» (soit 100a vers la gauche)\n",
    "# * `temps` liste des temps à utiliser pour l'intégration (choisis avec soin pour vous)\n",
    "# * `liste_b` la liste des paramètres d'impact (positifs) que l'on veut explorer\n",
    "from donnees import *\n",
    "\n",
    "# Pour le reste, à vous de jouer (y compris importer les bons modules).\n",
    "\n",
    "\n",
    "\n",
    "\n",
    "\n",
    "# Tout cela pour ça\n",
    "reponse = \"Liste des angles de déflection pour chaque valeur de b explorée\"\n",
    "\n",
    "print(\"Votre réponse:\", reponse)\n",
    "\n"
   ]
  }
 ],
 "metadata": {
  "kernelspec": {
   "display_name": "Python 3 (ipykernel)",
   "language": "python",
   "name": "python3"
  },
  "language_info": {
   "codemirror_mode": {
    "name": "ipython",
    "version": 3
   },
   "file_extension": ".py",
   "mimetype": "text/x-python",
   "name": "python",
   "nbconvert_exporter": "python",
   "pygments_lexer": "ipython3",
   "version": "3.9.10"
  }
 },
 "nbformat": 4,
 "nbformat_minor": 5
}
