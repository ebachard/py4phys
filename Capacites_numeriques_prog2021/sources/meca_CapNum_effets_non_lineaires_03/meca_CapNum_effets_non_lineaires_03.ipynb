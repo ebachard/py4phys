{
 "cells": [
  {
   "cell_type": "markdown",
   "id": "bca83a3e",
   "metadata": {},
   "source": [
    "# Effets non linéaires en mécanique, épisode III, \n",
    "\n",
    "## Avancée du périhélie de Mercure\n",
    "\n",
    "Dans cet épisode, on va essayer de résoudre l'équation suivante sur $u$ en fonction de $\\theta$ pour montrer qu'on ne doit pas toujours faire une intégration au cours du temps\n",
    "$$\n",
    "\\frac{\\mathrm{d}^2u}{\\mathrm{d}\\theta^2} + u \n",
    "    = B + \\frac{\\epsilon}{B}\\,u^2\n",
    "$$\n",
    "Long-story short, le $\\epsilon$ correspond à la correction relativiste à l'équation newtonienne donnant l'évolution de la distance $r$ à l'astre attracteur (sous la forme de son inverse: $u=1/r$) en fonction de la position angulaire $\\theta$ sur l'orbite.\n",
    "\n",
    "Pour ceux qui veulent des détails, vous pouvez aller voir l'énoncé du sujet des Mines, Physique 2 MP, 2005, plus particulièrement la partie II.\n",
    "\n",
    "Bref, $B$ et $\\epsilon$ valant ce qu'ils valent (vous vous doutez au nom que $\\epsilon$ est vraisembablement petit devant $1$ et on peut voir qu'il est aussi sans dimension), il va s'agir de voir l'action du terme non linéaire en $u^2$ dans le membre de droite de l'équation. Normalement, si $\\epsilon=0$, on voit que l'équation est un simple oscillateur harmonique dont la période est $2\\pi$: la planète dont on étudie la trajectoire doit revenir au même point après avoir fait un tour complet (donc une augmentation de $2\\pi$ de sa position angulaire). Jusqu'ici tout va bien... \n",
    "\n",
    "Sauf que le terme non linéaire va bousculer un peu les choses et ceci d'autant plus que la valeur de $u$ est grande donc la planète est proche du centre attracteur ($u$ de plus en plus grand impose $r=1/u$ de plus en plus petit) et qu'il faudra peut-être un angle un peu plus grand (ou un peu moins grand, on verra) pour revenir au plus proche du centre attracteur (le fameux périhélie).\n",
    "\n",
    "## Ce qu'on vous demande\n",
    "\n",
    "Le fichier de données va vous fournir les valeurs de $B$ et $\\epsilon$ (variables `B` et `epsilon` respectivement) ainsi qu'une valeur initiale pour $u$ (variable `u0`) dont on supposera le $\\frac{\\mathrm{d}u}{\\mathrm{d}\\theta}$ correspondant nul. On vous fournit aussi le nombre $N$ (variable `N`) de points de valeurs de $\\theta$ à distribuer entre $0$ et $6\\pi$ (via un `np.linspace` bien choisi) de sorte à avoir presque trois périodes angulaires de $2\\pi$ (moins si la période augmente). Le but est de trouver l'écart relatif de la période angulaire par rapport à $2\\pi$, soit si $T$ est la période, calculer $\\frac{T-2\\pi}{2\\pi}$.\n"
   ]
  },
  {
   "cell_type": "code",
   "execution_count": 2,
   "id": "6d04a85d",
   "metadata": {},
   "outputs": [
    {
     "name": "stdout",
     "output_type": "stream",
     "text": [
      "Votre réponse:  liste des écarts relatifs\n"
     ]
    },
    {
     "data": {
      "text/plain": [
       "[<matplotlib.lines.Line2D at 0x117cdedc0>]"
      ]
     },
     "execution_count": 2,
     "metadata": {},
     "output_type": "execute_result"
    },
    {
     "data": {
      "image/png": "[encoded data removed]",
      "text/plain": [
       "<Figure size 432x288 with 1 Axes>"
      ]
     },
     "metadata": {
      "needs_background": "light"
     },
     "output_type": "display_data"
    }
   ],
   "source": [
    "# Les modules nécessaires à la bonne marche des évènements\n",
    "# NB: `np.pi` permet d'accéder à la valeur de \\pi\n",
    "# tandis que `np.linspace(depart, fin, N)` vous crée un np.array qui\n",
    "# met N points linéairement espacés de `depart` jusqu'à `fin`\n",
    "import numpy as np\n",
    "import scipy as sp\n",
    "import scipy.integrate\n",
    "import matplotlib.pyplot as plt\n",
    "\n",
    "# Les données fournies:\n",
    "# * `B` contient la valeur du B de l'équadiff\n",
    "# * `epsilon` celle du epsilon de l'équadiff\n",
    "# * `N` le nombre de points à distribuer de 0 à 6pi pour les valeurs de \\theta à regarder\n",
    "# * `u0` la valeur initiale pour u \n",
    "#   (on suppose la «vitesse» initiale nulle)\n",
    "from donnees import *\n",
    "\n",
    "# Faire ci-après l'intégration numérique pour chaque valeur initiale\n",
    "# et déterminer l'écart relatif de la période à 2pi\n",
    "\n",
    "\n",
    "\n",
    "# Stockez le résultat sous la forme d'un écart relatif\n",
    "reponse = \"ecart relatif avec la valeur 2pi\"\n",
    "\n",
    "print(\"Votre réponse: \", reponse)\n",
    "\n",
    "\n",
    "# En se mettant en coordonnées polaires, on peut dessiner les trajectoires \n",
    "# si on veut visuellement voir l'écart. Inspirez-vous de l'exemple ci-dessous\n",
    "# pour regarder la trajectoire qui s'écarte le plus de celle attendue \n",
    "# (normalement la dernière)\n",
    "\n",
    "theta = np.linspace(0, 6 * np.pi, N)\n",
    "U = B + (u0-B) * np.cos(theta) # Solution attendue sans terme non linéaire\n",
    "R = 1 / U # Calcul des distances (r = 1/u)\n",
    "\n",
    "X = R * np.cos(theta)\n",
    "Y = R * np.sin(theta)\n",
    "\n",
    "plt.axis('equal')\n",
    "plt.plot(X, Y)\n",
    "\n",
    "\n"
   ]
  }
 ],
 "metadata": {
  "kernelspec": {
   "display_name": "Python 3 (ipykernel)",
   "language": "python",
   "name": "python3"
  },
  "language_info": {
   "codemirror_mode": {
    "name": "ipython",
    "version": 3
   },
   "file_extension": ".py",
   "mimetype": "text/x-python",
   "name": "python",
   "nbconvert_exporter": "python",
   "pygments_lexer": "ipython3",
   "version": "3.9.7"
  }
 },
 "nbformat": 4,
 "nbformat_minor": 5
}
