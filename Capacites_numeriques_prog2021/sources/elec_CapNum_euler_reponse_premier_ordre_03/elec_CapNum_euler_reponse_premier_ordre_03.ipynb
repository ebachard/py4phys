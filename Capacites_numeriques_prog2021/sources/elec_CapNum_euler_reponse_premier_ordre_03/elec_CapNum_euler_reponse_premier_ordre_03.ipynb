{
 "cells": [
  {
   "cell_type": "markdown",
   "id": "retained-banana",
   "metadata": {},
   "source": [
    "# Méthode d'Euler en électricité, épisode III\n",
    "\n",
    "## Problème posé\n",
    "\n",
    "On considère une résistance $R$ en série avec un condensateur de capacité $C$ le tout branché sur un générateur de force électromotrice $e(t) = A\\cos(\\omega t)$ avec $A$ et $\\omega$ des constantes. Le condensateur est supposé déchargé à $t=0$.\n",
    "\n",
    "On veut connaître l'évolution de la tension $u_C$ aux bornes du condensateur.\n",
    "\n",
    "Mettez le système en équation et intégrez informatiquement l'équation différentielle correspondante sur l'équivalent de $10\\tau$ (où $\\tau$ vaut quoi déjà ?). On fournit les valeurs de `dt`, `R`, `C`, `A` et `omega` ($\\omega$).\n",
    "\n",
    "En faisant une représentation graphique, vous devriez observer que la tension du condensateur «suit» celle du générateur avec un certain temps de retard et une amplitude différente. On voudrait déterminer cette amplitude ainsi que le déphasage $\\varphi$ qui se calcule via\n",
    "$$\n",
    "\\varphi = - 2\\pi\\,\\frac{\\Delta t}{T}\n",
    "$$\n",
    "où $\\Delta t$ est le retard de $u_C(t)$ par rapport à $e(t)$. Le plus simple est de prendre les passages par zéro: si $t_1$ est un temps tel que $e(t)$ passe par $0$ en sens montant, alors $u_C(t)$ passera par $0$ en sens montant à l'instant $t_1+\\Delta t$.\n",
    "\n",
    "Mettre dans la variable `reponse` (SANS ACCENT) l'amplitude de $u_C(t)$ une fois le régime permanent sinusoïdal atteint (au bout de $5\\tau$) ainsi que le déphasage de $u_C(t)$ par rapport à $e(t)$.\n"
   ]
  },
  {
   "cell_type": "code",
   "execution_count": 1,
   "id": "owned-spectacular",
   "metadata": {},
   "outputs": [
    {
     "name": "stdout",
     "output_type": "stream",
     "text": [
      "('Amplitude', 'déphasage')\n"
     ]
    }
   ],
   "source": [
    "# Les modules qui seront utiles\n",
    "import numpy as np\n",
    "import matplotlib.pyplot as plt\n",
    "\n",
    "# Lecture des données (dt, R, C, A et omega)\n",
    "from donnees import *\n",
    "\n",
    "# À vous de jouer. \n",
    "# Inspirez-vous de l'épisode précédent pour procéder à l'intégration\n",
    "\n",
    "\n",
    "\n",
    "# Faites une représentation graphique pour avoir à la fois\n",
    "# la tension du générateur et celle aux bornes du condensateur\n",
    "\n",
    "\n",
    "\n",
    "\n",
    "# Une fois l'intégration faite, il faut encore trouver \n",
    "# l'amplitude des oscillations ainsi que le déphasage\n",
    "# (regarder à partir de t=5\\tau)\n",
    "\n",
    "\n",
    "\n",
    "\n",
    "# L'endroit où il faut stocker vos résultats\n",
    "reponse = 'Amplitude', 'déphasage'\n",
    "\n",
    "print(reponse)"
   ]
  }
 ],
 "metadata": {
  "kernelspec": {
   "display_name": "Python 3",
   "language": "python",
   "name": "python3"
  },
  "language_info": {
   "codemirror_mode": {
    "name": "ipython",
    "version": 3
   },
   "file_extension": ".py",
   "mimetype": "text/x-python",
   "name": "python",
   "nbconvert_exporter": "python",
   "pygments_lexer": "ipython3",
   "version": "3.9.6"
  }
 },
 "nbformat": 4,
 "nbformat_minor": 5
}
