{
 "cells": [
  {
   "cell_type": "markdown",
   "id": "desirable-davis",
   "metadata": {},
   "source": [
    "# Régression linéaire, épisode II\n",
    "\n",
    "Lors du suivi d'une cinétique chimique, on mesure la valeur de l'avancement volumique molaire $x$ au cours du temps $t$. On obtient (par exemple !) la suite de valeurs suivantes:\n",
    "\n",
    "| Mesures           | 1  | 2   | 3   | 4   | 5   |\n",
    "|:-----------------:|:--:|:---:|:---:|:---:|:---:|\n",
    "| $t$ en s          | 99 | 217 | 321 | 471 | 587 | \n",
    "| $x$ en $\\mu$mol/L | 22 | 46  | 66  | 91  | 109 | \n",
    "\n",
    "Tant que la réaction n'est pas trop avancée, le comportement initial est linéaire. Si on représente $\\frac{x}{t}$ en fonction de $t$ et que l'on fait tendre $t$ vers $0$ (donc si on regarde l'ordonnée à l'origine de la droite dessinée par ces premiers points), alors on a une estimation de la vitesse initiale $v_0$ de réaction qui peut avoir une importance particulière dans les raisonnements en cinétique chimique.\n",
    "\n",
    "Le but de cet exercice est donc de déterminer cette vitesse initiale $v_0$ ainsi que son incertitude-type en tirant $N$ réalisation des points de mesures et donc $N$ réalisations de la régression linéaire, ce qui permet de mesurer la variabilité de l'ordonnée à l'origine ainsi déterminée.\n",
    "\n",
    "En sortie, vous mettrez dans la variable `reponse` à la fois $v_0$ et son incertitude-type.\n"
   ]
  },
  {
   "cell_type": "code",
   "execution_count": 1,
   "id": "opened-tongue",
   "metadata": {},
   "outputs": [
    {
     "name": "stdout",
     "output_type": "stream",
     "text": [
      "Votre réponse: ('moyenne', 'ecart-type')\n"
     ]
    }
   ],
   "source": [
    "# Les modules utiles\n",
    "import numpy as np\n",
    "import numpy.random as rd\n",
    "import matplotlib.pyplot as plt\n",
    "\n",
    "# Lecture des données (dans `t` et `x`) avec leurs incertitudes\n",
    "# (dans `u_t` et `u_x`) ainsi que le nombre `N` de tirages à faire\n",
    "from donnees import *\n",
    "\n",
    "# Commencez par vous faire une représentation graphique pour\n",
    "# vérifier visuellement que c'est bien une droite\n",
    "\n",
    "\n",
    "\n",
    "# Puis faites N boucles en faisant à chaque fois une régression linéaire\n",
    "# et stockez chacune des ordonnées à l'origine pour en déterminer\n",
    "# la moyenne et l'écart-type de la distribution\n",
    "# (faites-vous aussi un histogramme pour voir la tête qu'il a)\n",
    "\n",
    "\n",
    "\n",
    "# N'oubliez pas de mettre les bonnes choses dans la variable `reponse`\n",
    "reponse = 'moyenne', 'ecart-type'\n",
    "print(\"Votre réponse:\", reponse)"
   ]
  }
 ],
 "metadata": {
  "kernelspec": {
   "display_name": "Python 3 (ipykernel)",
   "language": "python",
   "name": "python3"
  },
  "language_info": {
   "codemirror_mode": {
    "name": "ipython",
    "version": 3
   },
   "file_extension": ".py",
   "mimetype": "text/x-python",
   "name": "python",
   "nbconvert_exporter": "python",
   "pygments_lexer": "ipython3",
   "version": "3.9.7"
  }
 },
 "nbformat": 4,
 "nbformat_minor": 5
}
