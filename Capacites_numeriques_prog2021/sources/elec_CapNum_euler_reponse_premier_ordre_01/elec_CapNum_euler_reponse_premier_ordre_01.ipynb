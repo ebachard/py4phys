{
 "cells": [
  {
   "cell_type": "markdown",
   "id": "several-diving",
   "metadata": {},
   "source": [
    "# Méthode d'Euler en élec, épisode I\n",
    "\n",
    "Dans ce notebook, on va détailler un peu le principe derrière la méthode d'Euler pour pour pouvoir intégrer (de manière un peu rustique mais tout de même fort utile) une équation différentielle dont on se limite pour le moment au premier ordre (on verra dans un futur épisode comment transformer une équadiff d'ordre $n$ en $n$ équadiffs d'ordre 1).\n",
    "\n",
    "Comme chaque épisode introductif, on commence par une première partie théorique à lire, suivie d'une partie pratique courte qui sera développée dans les prochains épisodes.\n",
    "\n",
    "Comme d'habitude, il faudra fournir votre réponse dans la variable `reponse` en toute fin de notebook et bien lire ce qu'on vous demande d'y mettre.\n",
    "\n",
    "## Première partie, bases théoriques\n",
    "\n",
    "La méthode d'Euler est la base de tout méthode d'intégration numérique d'équation différentielle. C'est un peu comme la roue pour une formule 1: avoir la roue ne suffit pas à avoir une formule 1, mais sans roue, point de formule 1 du tout. La méthode d'Euler est donc la «plus mauvaise» méthode d'intégration numérique, mais c'est celle qui donne l'idée qui se cache derrière toute les autres et est la plus simple à mettre en œuvre. Il est donc important de regarder un peu ce qui se cache sous le capot.\n",
    "\n",
    "### Ce qu'on veut intégrer\n",
    "\n",
    "La méthode d'Euler sert à intégrer une équation différentielle du premier ordre du type\n",
    "$$\n",
    "\\frac{\\mathrm{d}y}{\\mathrm{d}t} = f(y, t)\n",
    "$$\n",
    "où $f$ est une fonction qui dépend à la fois de la fonction inconnue $y(t)$ et de la variable temporelle $t$ dont ladite fonction $y$ dépend. Notez au passage qu'on utilise $t$ parce que souvent on veut voir l'évolution au cours du temps, mais rien n'empêche  d'avoir un autre nom de variable comme pour l'équation de l'hydrostatique où l'on aurait\n",
    "$$\n",
    "\\frac{\\mathrm{d}P}{\\mathrm{d}z} = f(P, z)\n",
    "$$\n",
    "\n",
    "### Comment procéder ?\n",
    "\n",
    "La procédure est relativement intuitive quand on interprète la dérivée $\\frac{\\mathrm{d}y}{\\mathrm{d}t}$ comme le rapport du petit incrément $\\mathrm{d}y$ de la grandeur $y$ pendant le petit intervalle de temps $\\mathrm{d}t$: cela donne (approximativement) de combien $y$ va varier durant $\\mathrm{d}t$. L'équation différentielle se réécrit alors, si on multiplie par $\\mathrm{d}t$ de part et d'autre,\n",
    "$$\n",
    "\\mathrm{d}y \\approx f(y, t)\\,\\mathrm{d}t\n",
    "$$\n",
    "et la nouvelle valeur de $y$ (celle en $t+\\mathrm{d}t$) correspond (à peu près) à l'ancienne (celle en $t$) à laquelle on ajoute $\\mathrm{d}y$:\n",
    "$$\n",
    "y(t + \\mathrm{d}t) = y(t) + \\mathrm{d}y \n",
    "    \\approx y(t) + f(y(t), t)\\,\\mathrm{d}t\n",
    "$$\n",
    "Pour avancer dans le temps, il suffira d'y aller par pas de $\\mathrm{d}t$ en $\\mathrm{d}t$ et de calculer l'évolution de $y$ de proche en proche en utilisant à chaque fois la dernière valeur connue de $y$ (celle en $t$) pour calculer la suivante (celle en $t + \\mathrm{d}t$)\n",
    "\n",
    "### Y plus qu'à...\n",
    "\n",
    "En pratique, de quoi a-t-on besoin ? \n",
    "\n",
    "* On doit disposer d'une valeur initiale pour $y(t_0)$ à l'instant $t_0$ où l'on commence à regarder (on choisit souvent $t_0=0$, mais ce n'est pas une obligation), \n",
    "* on a aussi besoin d'avoir à disposition cette fameuse fonction $f(y, t)$ qui peut finalement ne pas dépendre du temps. Par exemple pour l'équation différentielle\n",
    "$$\n",
    "\\frac{\\mathrm{d}y}{\\mathrm{d}t} = - \\frac1\\tau\\,y\n",
    "$$\n",
    "on a simplement $f(y, t) = - \\frac1\\tau\\,y$.\n",
    "* Et finalement on doit se choisir un pas de temps $\\mathrm{d}t$ suffisamment petit pour que les erreurs successives ne soient pas trop grandes et se débrouiller pour stocker les valeurs des temps successifs qui correspondent aux $y$ successifs qu'on aura calculé.\n",
    "\n",
    "### Exemple de $\\frac{\\mathrm{d}y}{\\mathrm{d}t} = - \\frac1\\tau\\,y$ avec $y(0) = 10$\n"
   ]
  },
  {
   "cell_type": "code",
   "execution_count": 1,
   "id": "played-founder",
   "metadata": {},
   "outputs": [
    {
     "data": {
      "text/plain": [
       "<matplotlib.legend.Legend at 0x10d7797f0>"
      ]
     },
     "execution_count": 1,
     "metadata": {},
     "output_type": "execute_result"
    },
    {
     "data": {
      "image/png": "[encoded data removed]",
      "text/plain": [
       "<Figure size 432x288 with 1 Axes>"
      ]
     },
     "metadata": {
      "needs_background": "light"
     },
     "output_type": "display_data"
    }
   ],
   "source": [
    "import numpy as np              # Pour avoir des np.array\n",
    "import matplotlib.pyplot as plt # Pour faire le dessin à la fin\n",
    "\n",
    "dt = 1e-1\n",
    "t0 = 0\n",
    "y0 = 10\n",
    "tau= 2\n",
    "tmax = 5 * tau # On va intégrer jusqu'à 5\\tau\n",
    "N = int((tmax-t0) / dt) # Pour savoir le nombre de places à prévoir\n",
    "\n",
    "# On prépare les contenants qui stockeront les valeurs calculées\n",
    "# le \"+1\" correspond à la valeur initiale\n",
    "T = np.zeros(N+1)\n",
    "Y = np.zeros(N+1)\n",
    "\n",
    "# On impose les valeurs initiales\n",
    "T[0] = t0\n",
    "Y[0] = y0\n",
    "\n",
    "def f(y, t):\n",
    "    \"\"\"\n",
    "    La fonction en question ne dépend que de y,\n",
    "    mais ce sera plus facile à généraliser quand on aura\n",
    "    un second membre non constant dans les prochains épisodes.\n",
    "    En outre, informatiquement, il n'est pas abhérent de demander\n",
    "    une variable (ici t) et finalement ne pas l'utiliser si cela\n",
    "    simplifie une généralisation future.\n",
    "    \"\"\"\n",
    "    return - 1 / tau * y\n",
    "\n",
    "# La boucle de calcul proprement dite dans laquel chaque Y est calculé\n",
    "# à partir de celui d'avant.\n",
    "for i in range(1, N+1):\n",
    "    # On utilise les valeurs précédentes pour calculer l'incrément\n",
    "    dy = f(Y[i-1], T[i-1]) * dt\n",
    "    # et on le rajoute à la valeur précédente pour avoir la nouvelle\n",
    "    Y[i] = Y[i-1] + dy \n",
    "    # Le temps s'incrémente aussi d'un pas\n",
    "    T[i] = T[i-1] + dt \n",
    "\n",
    "# On peut à présent représenter notre solution ainsi que la solution\n",
    "# connue du cours en y0 * exp(-t/tau)\n",
    "\n",
    "theorique = y0 * np.exp(-T / tau)\n",
    "plt.plot(T, theorique, label = 'Version théorique')\n",
    "plt.plot(T, Y, label = 'Version Euler')\n",
    "plt.xlabel('Temps $t$ (sûrement en secondes)')\n",
    "plt.ylabel('Grandeur $y$ (en unité de $y$...)')\n",
    "plt.xlim(t0, tmax)\n",
    "plt.ylim(0, 1.1*y0)\n",
    "plt.grid()\n",
    "plt.legend()\n"
   ]
  },
  {
   "cell_type": "markdown",
   "id": "breathing-europe",
   "metadata": {},
   "source": [
    "On voit qu'avec ce pas de temps, les deux versions sont très proches, même si on voit bien apparaître un peu de bleu vers $t=3~\\mathrm{s}$ qui montre que l'intégration par Euler a tendance à surestimer la baisse de $y$, mais dans l'ensemble, ce n'est pas trop mal, principalement parce qu'on tend vers une constante (ici nulle)."
   ]
  },
  {
   "cell_type": "markdown",
   "id": "ready-arthritis",
   "metadata": {},
   "source": [
    "## Deuxième partie: mise en pratique personnelle\n",
    "\n",
    "À vous de jouer. La commande d'import dans la cellule suivante vous impose les valeurs de `dt`,  `tmax`, `tau` et `E`. À vous d'adapter le code afin d'intégrer l'équation différentielle\n",
    "$$\n",
    "\\frac{\\mathrm{d}y}{\\mathrm{d}t} + \\frac{1}\\tau\\,y = \\frac{E}{\\tau}\n",
    "$$\n",
    "avec la condition initiale $y(0) = 0$.\n",
    "\n",
    "En particulier, réfléchissez à la fonction $f(y, t)$ qu'il va falloir utiliser, à la valeur de $t_0$ cachée dans la condition initiale précédente, etc.\n",
    "\n",
    "Vous mettrez dans la variable `reponse` (SANS ACCENT) à la fois la valeur de $y$ en $t=t_0 + 10\\,\\mathrm{d}t$ et $t=t_0 + 200\\,\\mathrm{d}t$."
   ]
  },
  {
   "cell_type": "code",
   "execution_count": 2,
   "id": "favorite-engineer",
   "metadata": {},
   "outputs": [
    {
     "data": {
      "image/png": "[encoded data removed]",
      "text/plain": [
       "<Figure size 432x288 with 1 Axes>"
      ]
     },
     "metadata": {
      "needs_background": "light"
     },
     "output_type": "display_data"
    }
   ],
   "source": [
    "# Import des valeurs de `dt`, `tmax`, `tau` et `E`\n",
    "from donnees import *\n",
    "\n",
    "# À vous de jouer pour intégrer l'équation différentielle\n",
    "# et mettre dans `T` et `Y` les valeurs respectives des temps et \n",
    "# des valeurs correspondantes de y\n",
    "\n",
    "\n",
    "\n",
    "# Si vous avez bien bossé, le graphique suivant devrait vous\n",
    "# retrouver l'habituelle charge du condensateur initialement déchargé\n",
    "# dont la charge doit tendre vers $E$.\n",
    "\n",
    "plt.plot(T, Y)\n",
    "plt.ylim(0, 1.1*E)\n",
    "plt.xlim(t0, tmax)\n",
    "plt.grid()\n",
    "\n",
    "\n",
    "reponse = 'valeur à t0 + 10*dt', 'valeur à t0 + 200*dt'\n"
   ]
  }
 ],
 "metadata": {
  "kernelspec": {
   "display_name": "Python 3",
   "language": "python",
   "name": "python3"
  },
  "language_info": {
   "codemirror_mode": {
    "name": "ipython",
    "version": 3
   },
   "file_extension": ".py",
   "mimetype": "text/x-python",
   "name": "python",
   "nbconvert_exporter": "python",
   "pygments_lexer": "ipython3",
   "version": "3.9.6"
  }
 },
 "nbformat": 4,
 "nbformat_minor": 5
}
