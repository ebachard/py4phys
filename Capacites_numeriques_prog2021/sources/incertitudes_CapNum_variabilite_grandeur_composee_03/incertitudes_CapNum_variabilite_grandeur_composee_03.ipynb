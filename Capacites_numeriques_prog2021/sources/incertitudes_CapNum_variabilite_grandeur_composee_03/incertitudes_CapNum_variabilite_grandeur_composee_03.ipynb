{
 "cells": [
  {
   "cell_type": "markdown",
   "id": "comic-platinum",
   "metadata": {},
   "source": [
    "# Variabilité d'une grandeur pour estimer son incertitude type, 3e épisode\n",
    "\n",
    "Ce notebook vise à illustrer des calculs que vous ferez très fréquemment en TP de physique, gardez-le donc sous le coude pour vous en inspirer au besoin: on ne vous demande pas de retenir par cœur la syntaxe, en revanche, on vous demande d'être capable de l'adapter au cas que vous allez traiter en TP.\n",
    "\n",
    "Plus de rappels théoriques ici, mais vous êtes encouragés à revoir les fichiers précédents pour vous raffraîchir la mémoire.\n",
    "\n",
    "La réponse à la question posée doit être stockée dans la variable `reponse` (ATTENTION: pas d'accent ! Voyez dans la dernière case de ce notebook).\n",
    "\n",
    "ATTENTION (bis), au moment de rendre ce travail, assurez-vous bien qu'une exécution via \"Noyau -> Redémarrer & tout exécuter\" vous donne bien le résultat attendu. Cf la vidéo qui explique comment prendre en main un notebook.\n"
   ]
  },
  {
   "cell_type": "markdown",
   "id": "broad-gazette",
   "metadata": {},
   "source": [
    "## Énoncé\n",
    "\n",
    "Vous effectuez une expérience de calorimétrie pour déterminer l'enthalpie massique de fusion de la glace $\\ell_{fus}$ qui vérifie l'équation\n",
    "$$\n",
    "(m_e + \\mu)c_{eau} (T_f - T_e) + m_g\\,\\ell_{fus} + m_g\\,c_{eau}(T_f - T_{fus}) = 0\n",
    "$$\n",
    "où les grandeurs correspondent respectivement à \n",
    "* $m_e$: la masse d'eau mise dans le calorimètre, variable informatique `me`\n",
    "* $\\mu$: la masse en eau du calorimètre (soit la masse d'eau à laquelle il est thermodynamiquement équivalent), variable informatique `mu`\n",
    "* $m_g$: la masse de glace introduite dans le calorimètre, variable informatique `mg`\n",
    "* $T_e$: la température initiale de l'eau et du calorimètre, variable informatique `Te`\n",
    "* $T_{fus}$: la température de fusion de la glace (et température initiale de la glace), variable informatique `Tfus`\n",
    "* $T_f$: la température finale, variable informatique `Tf`\n",
    "* $c_{eau}$: la capacité thermique massique de l'eau liquide qui vaut $4{,}18~\\mathrm{kJ.kg^{-1}.K^{-1}}$\n",
    "\n",
    "Les valeurs sont lues à partir du fichier de données annexe et pour une variable nommée `x`, on a aussi toujours l'incertitude-type associée dans la variable `u_x`.\n",
    "\n",
    "Les masses sont données en grammes, les températures en degrés celsius. \n",
    "\n",
    "Votre travail est de stocker dans la variable `reponse` (SANS ACCENT) à la fois la valeur de l'enthalpie massique de fusion $\\ell_{fus}$ (exprimée en $\\mathrm{kJ.kg^{-1}}$) et l'incertitude-type associée (dans la même unité). "
   ]
  },
  {
   "cell_type": "code",
   "execution_count": 1,
   "id": "detailed-consent",
   "metadata": {},
   "outputs": [],
   "source": [
    "import numpy as np        # Importation de numpy\n",
    "import numpy.random as rd # Le sous-module pour les tirages aléatoires\n",
    "\n",
    "from donnees import *     # Import des variables et de leur incertitude (et de N)\n",
    "\n",
    "# À vous de bosser.\n",
    "# Faites les tirages\n",
    "\n",
    "\n",
    "\n",
    "# Puis calculez les grandeurs demandées \n",
    "# et mettez ce qu'il faut dans la variable reponse (SANS ACCENT)\n",
    "\n",
    "\n",
    "\n",
    "# Au cas où vous voudriez faire un histogramme pour vérifier\n",
    "import matplotlib.pyplot as plt \n"
   ]
  }
 ],
 "metadata": {
  "kernelspec": {
   "display_name": "Python 3",
   "language": "python",
   "name": "python3"
  },
  "language_info": {
   "codemirror_mode": {
    "name": "ipython",
    "version": 3
   },
   "file_extension": ".py",
   "mimetype": "text/x-python",
   "name": "python",
   "nbconvert_exporter": "python",
   "pygments_lexer": "ipython3",
   "version": "3.9.6"
  }
 },
 "nbformat": 4,
 "nbformat_minor": 5
}
