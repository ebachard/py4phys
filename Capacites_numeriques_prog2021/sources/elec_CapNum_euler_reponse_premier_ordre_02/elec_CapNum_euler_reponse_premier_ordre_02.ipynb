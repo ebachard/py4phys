{
 "cells": [
  {
   "cell_type": "markdown",
   "id": "retained-banana",
   "metadata": {},
   "source": [
    "# Méthode d'Euler en électricité, épisode II\n",
    "\n",
    "## Problème posé\n",
    "\n",
    "On considère une résistance $R$ en série avec un condensateur de capacité $C$ le tout branché sur un générateur de force électromotrice $e(t) = a*t$ avec $a$ une constante. Le condensateur est supposé déchargé à $t=0$.\n",
    "\n",
    "On veut connaître l'évolution de la tension $u_C$ aux bornes du condensateur.\n",
    "\n",
    "Mettez le système en équation et résolvez l'équation différentielle correspondante sur l'équivalent de $10\\tau$ (où $\\tau$ vaut quoi déjà ?). On fournit les valeurs de `dt`, `R`, `C` et `a`\n",
    "\n",
    "En faisant une représentation graphique, vous devriez observer que la tension du condensateur «suit» celle du générateur avec un certain temps de retard que l'on veut déterminer. On estime que ce retard reste à peu près constant après $5\\tau$\n",
    "\n",
    "Mettre dans la variable `reponse` (SANS ACCENT) le retard, c'est-à-dire la valeur $\\Delta t$ telle que $$\n",
    "u_C(5\\tau + \\Delta t) = e(5\\tau)\n",
    "$$\n",
    "On y mettra aussi la valeur de la tension du générateur ($e(5\\tau+\\Delta)$) à cet instant.\n",
    "\n",
    "ATTENTION: il est fortement improbable que l'égalité stricte soit atteinte. Il faut donc trouver $\\Delta t$ tel que $|u_C(5\\tau + \\Delta t) - e(5\\tau)|$ soit le plus petit possible."
   ]
  },
  {
   "cell_type": "code",
   "execution_count": null,
   "id": "owned-spectacular",
   "metadata": {},
   "outputs": [],
   "source": [
    "# Les modules qui seront utiles\n",
    "import numpy as np\n",
    "import matplotlib.pyplot as plt\n",
    "\n",
    "# Lecture des données (dt, R, C et a)\n",
    "from donnees import *\n",
    "\n",
    "# À vous de jouer. \n",
    "# Inspirez-vous de l'épisode précédent pour procéder à l'intégration\n",
    "\n",
    "\n",
    "\n",
    "# Faites une représentation graphique pour avoir à la fois\n",
    "# la tension du générateur et celle aux bornes du condensateur\n",
    "\n",
    "\n",
    "\n",
    "\n",
    "# Une fois l'intégration faite, il faut encore trouver le retard Delta t\n",
    "\n",
    "\n",
    "\n",
    "\n",
    "# L'endroit où il faut stocker vos résultats\n",
    "reponse = 'Retard Delta t', 'valeur de e(5tau + Delta t)'\n",
    "\n",
    "print(reponse)"
   ]
  }
 ],
 "metadata": {
  "kernelspec": {
   "display_name": "Python 3",
   "language": "python",
   "name": "python3"
  },
  "language_info": {
   "codemirror_mode": {
    "name": "ipython",
    "version": 3
   },
   "file_extension": ".py",
   "mimetype": "text/x-python",
   "name": "python",
   "nbconvert_exporter": "python",
   "pygments_lexer": "ipython3",
   "version": "3.9.6"
  }
 },
 "nbformat": 4,
 "nbformat_minor": 5
}
