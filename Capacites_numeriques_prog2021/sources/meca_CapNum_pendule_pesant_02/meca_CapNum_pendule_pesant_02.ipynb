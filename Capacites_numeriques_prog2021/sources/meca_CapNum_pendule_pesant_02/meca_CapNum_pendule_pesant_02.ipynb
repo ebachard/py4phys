{
 "cells": [
  {
   "cell_type": "markdown",
   "id": "0476321e",
   "metadata": {},
   "source": [
    "# Mise en évidence du non-isochronisme des oscillations du pendule pesant, épisode II\n",
    "\n",
    "## Angle d'attaque\n",
    "\n",
    "Le non isochronisme des oscillations peut aussi se mettre en évidence en montrant que la solution n'est plus une belle solution sinusoïdale, soit en regardant le portrait de phase du système en coordonnées $(\\theta, \\dot\\theta/\\omega_0)$. En effet, dans ces coordonnées, on peut montrer que si $\\theta$ est bien sinusoïdal sous la forme \n",
    "$$\n",
    "\\theta(t) = \\theta_{max}\\cos(\\omega_0t + \\phi)\n",
    "$$ \n",
    "alors \n",
    "$$\n",
    "\\dot\\theta = -\\theta_{max}\\omega_0\\sin(\\omega_0t + \\phi)\n",
    "$$ \n",
    "soit \n",
    "$$\n",
    "\\dot\\theta/\\omega_0 = -\\theta_{max}\\sin(\\omega_0t + \\phi)\n",
    "$$\n",
    "où l'on reconnaît que si on représente $\\frac{\\dot\\theta(t)}{\\omega_0}$ en fonction de $\\theta(t)$, on récupère la représentation paramétrique d'un cercle (pensez au coordonnées dans le cercle trigonométrique, ici on tourne dans le sens horaire au cours du temps).\n",
    "\n",
    "Bref, une manière simple de voir l'écart au cas sinusoïdal sera de comparer les rapports $\\frac{\\dot\\theta_{max}/\\omega_0}{\\theta_{max}}$ et de voir comment il s'écarte de $1$.\n",
    "\n",
    "## Ce qu'on vous demande de faire\n",
    "\n",
    "Dans cette CapNum, on vous demande donc d'intégrer l'équation du pendule pesant (voir [cette vidéo](https://youtu.be/ATOgO_akMyQ) pour la retrouver au besoin) et de calculer les rapports $\\frac{\\dot\\theta_{max}/\\omega_0}{\\theta_{max}} = \\frac{\\dot\\theta_{max}}{\\omega_0\\,\\theta_{max}}$ pour chacun des cas et voir si effectivement cela s'éloigne de 1 ou non."
   ]
  },
  {
   "cell_type": "code",
   "execution_count": 1,
   "id": "785c503a",
   "metadata": {},
   "outputs": [
    {
     "name": "stdout",
     "output_type": "stream",
     "text": [
      "Votre réponse: liste des rapports demandés\n"
     ]
    },
    {
     "data": {
      "image/png": "[encoded data removed]",
      "text/plain": [
       "<Figure size 432x288 with 1 Axes>"
      ]
     },
     "metadata": {
      "needs_background": "light"
     },
     "output_type": "display_data"
    }
   ],
   "source": [
    "# Import des modules adéquats\n",
    "import numpy as np\n",
    "import scipy as sp\n",
    "import scipy.integrate\n",
    "import matplotlib.pyplot as plt\n",
    "\n",
    "# Import des données, à savoir:\n",
    "# * `m` la masse du pendule\n",
    "# * `I_Delta` son moment d'inertie par rapport à l'axe \\Delta\n",
    "# * `OG` l'écart de son centre de gravité par rapport au point de fixation O\n",
    "# * `liste_thetapoint0` la liste des vitesse angulaire initiales à prendre\n",
    "# * `temps` le np.array des temps sur lesquels faire l'intégration numérique\n",
    "from donnees import *\n",
    "\n",
    "# À vous de faire l'intégration numérique pour chacune des conditions initiales\n",
    "# tout en rajoutant une courbe sur le portrait de phase normalisé pour voir l'effet\n",
    "\n",
    "\n",
    "\n",
    "# On se met en échelle identique en x et en y\n",
    "plt.axis('equal')\n",
    "plt.title('Portrait de phase')\n",
    "\n",
    "\n",
    "# Dans la variable reponse, on met la liste des rapport (thetapointmax/w0)/thetamax\n",
    "# en ayant pris soin de calculer le bon w0 pour le système étudié.\n",
    "reponse = \"liste des rapports demandés\"\n",
    "print('Votre réponse:', reponse)"
   ]
  }
 ],
 "metadata": {
  "kernelspec": {
   "display_name": "Python 3 (ipykernel)",
   "language": "python",
   "name": "python3"
  },
  "language_info": {
   "codemirror_mode": {
    "name": "ipython",
    "version": 3
   },
   "file_extension": ".py",
   "mimetype": "text/x-python",
   "name": "python",
   "nbconvert_exporter": "python",
   "pygments_lexer": "ipython3",
   "version": "3.9.7"
  }
 },
 "nbformat": 4,
 "nbformat_minor": 5
}
