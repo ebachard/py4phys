{
 "cells": [
  {
   "cell_type": "markdown",
   "id": "comic-platinum",
   "metadata": {},
   "source": [
    "# Variabilité d'une grandeur pour estimer son incertitude type\n",
    "\n",
    "Ce notebook vise à illustrer des calculs que vous ferez très fréquemment en TP de physique, gardez-le donc sous le coude pour vous en inspirer au besoin: on ne vous demande pas de retenir par cœur la syntaxe, en revanche, on vous demande d'être capable de l'adapter au cas que vous allez traiter en TP.\n",
    "\n",
    "Plus de rappels théoriques ici, mais vous êtes encouragés à revoir le fichier précédent pour vous raffraîchir la mémoire.\n",
    "\n",
    "La réponse à la question posée doit être stockée dans la variable `reponse` (ATTENTION: pas d'accent ! Voyez dans la dernière case de ce notebook).\n",
    "\n",
    "ATTENTION (bis), au moment de rendre ce travail, assurez-vous bien qu'une exécution via \"Noyau -> Redémarrer & tout exécuter\" vous donne bien le résultat attendu. Cf la vidéo qui explique comment prendre en main un notebook.\n"
   ]
  },
  {
   "cell_type": "markdown",
   "id": "broad-gazette",
   "metadata": {},
   "source": [
    "## Énoncé\n",
    "\n",
    "Vous effectuez une mesure de focométrie en mesurant la position $p$ d'un objet (variable informatique `p`) et la position $p'$ de l'image associée (variable informatique `pp`). Vous voulez déterminer l'incertitude-type sur la distance focale qui vérifie l'équation\n",
    "$$\n",
    "\\frac{1}{f'} = \\frac{1}{p'} - \\frac{1}{p}\n",
    "$$\n",
    "soit\n",
    "$$\n",
    "f' = \\frac{pp'}{p - p'}\n",
    "$$\n",
    "Les variables `p` et `pp` sont automatiquement importée à partir des données ainsi que les incertitudes-types `u_p` et `u_pp` associées. On a aussi défini dans la variable `N` le nombre de tirage imposé.\n",
    "\n",
    "Votre travail est de stocker dans la variable `reponse` (SANS ACCENT) à la fois la valeur de la focale (moyenne des tirages aléatoire dans le calcul de focale) et l'incertitude-type associée (écart-type des mêmes tirages). Si on suppose que la focale est stockée dans la variable `fp` (pour «f prime») et l'incertitude-type dans la variable `u_fp`, alors vous pouvez écrire `reponse = fp, u_fp`"
   ]
  },
  {
   "cell_type": "code",
   "execution_count": 3,
   "id": "detailed-consent",
   "metadata": {},
   "outputs": [
    {
     "name": "stdout",
     "output_type": "stream",
     "text": [
      "Valeur de focale:\t\t Mettre ici le calcul de la focale attendue, moyenne des tirages m\n",
      "Valeur de l'incertitude-type:\t Mettre là l'incertitude-type, soit l'écart-type des tirages m\n"
     ]
    }
   ],
   "source": [
    "import numpy as np        # Importation de numpy\n",
    "import numpy.random as rd # Le sous-module pour les tirages aléatoires\n",
    "\n",
    "from donnees import *     # Import de p, pp, u_p, u_pp et N\n",
    "\n",
    "# À vous de bosser.\n",
    "# Faites les tirages\n",
    "\n",
    "\n",
    "\n",
    "# Puis calculez les grandeurs demandées\n",
    "\n",
    "fp = \"Mettre ici le calcul de la focale attendue, moyenne des tirages\"\n",
    "u_fp = \"Mettre là l'incertitude-type, soit l'écart-type des tirages\"\n",
    "\n",
    "# Ne pas supprimer le stockage de la réponse\n",
    "\n",
    "reponse = fp, u_fp\n",
    "\n",
    "print('Valeur de focale:\\t\\t', fp, 'm')\n",
    "print(\"Valeur de l'incertitude-type:\\t\", u_fp, 'm')\n",
    "\n",
    "# Au cas où vous voudriez faire un histogramme pour vérifier\n",
    "import matplotlib.pyplot as plt \n"
   ]
  }
 ],
 "metadata": {
  "kernelspec": {
   "display_name": "Python 3",
   "language": "python",
   "name": "python3"
  },
  "language_info": {
   "codemirror_mode": {
    "name": "ipython",
    "version": 3
   },
   "file_extension": ".py",
   "mimetype": "text/x-python",
   "name": "python",
   "nbconvert_exporter": "python",
   "pygments_lexer": "ipython3",
   "version": "3.9.6"
  }
 },
 "nbformat": 4,
 "nbformat_minor": 5
}
